{
 "cells": [
  {
   "cell_type": "markdown",
   "metadata": {},
   "source": [
    "# Adventures during scraping"
   ]
  },
  {
   "cell_type": "markdown",
   "metadata": {},
   "source": [
    "## JavaScript"
   ]
  },
  {
   "cell_type": "code",
   "execution_count": 1,
   "metadata": {
    "ExecuteTime": {
     "end_time": "2018-12-31T12:28:18.702887Z",
     "start_time": "2018-12-31T12:28:18.415999Z"
    }
   },
   "outputs": [],
   "source": [
    "import requests"
   ]
  },
  {
   "cell_type": "code",
   "execution_count": 2,
   "metadata": {
    "ExecuteTime": {
     "end_time": "2018-12-31T12:28:20.005666Z",
     "start_time": "2018-12-31T12:28:18.707009Z"
    }
   },
   "outputs": [
    {
     "data": {
      "text/plain": [
       "False"
      ]
     },
     "execution_count": 2,
     "metadata": {},
     "output_type": "execute_result"
    }
   ],
   "source": [
    "# After fetching we should be able to find some of the text we have seen in the browser\n",
    "request = requests.get('http://ucreate.it')\n",
    "'Turn your idea into a successful tech business' in request.text"
   ]
  },
  {
   "cell_type": "code",
   "execution_count": 3,
   "metadata": {
    "ExecuteTime": {
     "end_time": "2018-12-31T12:28:20.020808Z",
     "start_time": "2018-12-31T12:28:20.011193Z"
    }
   },
   "outputs": [
    {
     "data": {
      "text/plain": [
       "'<!doctype html><html lang=\"en\"><head><meta charset=\"utf-8\"><meta http-equiv=\"x-ua-compatible\" content=\"ie=edge\"><meta name=\"viewport\" content=\"width=device-width,initial-scale=1,shrink-to-fit=no\"><meta name=\"theme-color\" content=\"#2329db\"><meta name=\"twitter:card\" content=\"summary_large_image\"/><meta name=\"twitter:url\" content=\"https://www.ucreate.it/\"><meta name=\"twitter:title\" content=\"ucreate. Validate, build, launch and grow your business\"/><meta name=\"twitter:description\" content=\"Technical and product co-founders rather than an outsourced team. The perfect partner if you\\'re looking to validate an idea, build a startup, launch a business or grow an enterprise.\"><meta name=\"twitter:image\" content=\"https://s3-eu-west-1.amazonaws.com/ucreate/og_tags_cover.png\"><meta prefix=\"og: http://ogp.me/ns#\" property=\"og:title\" content=\"ucreate. Validate, build, launch and grow your business\"/><meta prefix=\"og: http://ogp.me/ns#\" property=\"og:url\" content=\"https://uat-ucreate-website.herokuapp.com\"/><meta prefix=\"og: http://ogp.me/ns#\" property=\"og:type\" content=\"website\"/><meta prefix=\"og: http://ogp.me/ns#\" property=\"og:image\" content=\"https://s3-eu-west-1.amazonaws.com/ucreate/og_tags_cover.png\"/><meta prefix=\"og: http://ogp.me/ns#\" name=\"description\" property=\"og:description\" content=\"Technical and product co-founders rather than an outsourced team. The perfect partner if you\\'re looking to validate an idea, build a startup, launch a business or grow an enterprise.\"/><script>!function(e,t,a,n,g){e[n]=e[n]||[],e[n].push({\"gtm.start\":(new Date).getTime(),event:\"gtm.js\"});var m=t.getElementsByTagName(a)[0],r=t.createElement(a);r.async=!0,r.src=\"https://www.googletagmanager.com/gtm.js?id=GTM-MRD43GV\",m.parentNode.insertBefore(r,m)}(window,document,\"script\",\"dataLayer\")</script><style>@font-face{font-family:sofia-pro;src:url(https://use.typekit.net/af/5855b2/00000000000000003b9b1a98/27/l?primer=388f68b35a7cbf1ee3543172445c23e26935269fadd3b392a13ac7b2903677eb&fvd=n4&v=3) format(\"woff2\"),url(https://use.typekit.net/af/5855b2/00000000000000003b9b1a98/27/d?primer=388f68b35a7cbf1ee3543172445c23e26935269fadd3b392a13ac7b2903677eb&fvd=n4&v=3) format(\"woff\"),url(https://use.typekit.net/af/5855b2/00000000000000003b9b1a98/27/a?primer=388f68b35a7cbf1ee3543172445c23e26935269fadd3b392a13ac7b2903677eb&fvd=n4&v=3) format(\"opentype\");font-style:normal;font-weight:400;font-display:swap}@font-face{font-family:sofia-pro;src:url(https://use.typekit.net/af/7158ff/00000000000000003b9b1a9c/27/l?primer=388f68b35a7cbf1ee3543172445c23e26935269fadd3b392a13ac7b2903677eb&fvd=n6&v=3) format(\"woff2\"),url(https://use.typekit.net/af/7158ff/00000000000000003b9b1a9c/27/d?primer=388f68b35a7cbf1ee3543172445c23e26935269fadd3b392a13ac7b2903677eb&fvd=n6&v=3) format(\"woff\"),url(https://use.typekit.net/af/7158ff/00000000000000003b9b1a9c/27/a?primer=388f68b35a7cbf1ee3543172445c23e26935269fadd3b392a13ac7b2903677eb&fvd=n6&v=3) format(\"opentype\");font-style:normal;font-weight:600;font-display:swap}</style><link rel=\"manifest\" href=\"/manifest.json\"><link rel=\"icon\" type=\"image/png\" href=\"/favicon-16.png\" sizes=\"16x16\"><link rel=\"icon\" type=\"image/png\" href=\"/favicon-32.png\" sizes=\"32x32\"><link rel=\"icon\" type=\"image/png\" href=\"/favicon-96.png\" sizes=\"96x96\"><link rel=\"apple-touch-icon\" href=\"/apple-touch-icon-120.png\"><link rel=\"apple-touch-icon\" sizes=\"152x152\" href=\"/apple-touch-icon-152.png\"><link rel=\"apple-touch-icon\" sizes=\"167x167\" href=\"/apple-touch-icon-167.png\"><link rel=\"apple-touch-icon\" sizes=\"180x180\" href=\"/apple-touch-icon-180.png\"><link rel=\"apple-touch-icon\" sizes=\"512x512\" href=\"/apple-touch-icon-512.png\"><title>ucreate. Validate, build, launch and grow your business</title><link href=\"/static/css/main.83be52fa.css\" rel=\"stylesheet\"></head><body><noscript><iframe src=\"https://www.googletagmanager.com/ns.html?id=GTM-MRD43GV\" height=\"0\" width=\"0\" style=\"display:none;visibility:hidden\"></iframe></noscript><noscript>You need to enable JavaScript to run this app.</noscript><div id=\"root\"></div><script type=\"text/javascript\" src=\"/static/js/main.e9f81102.js\"></script></body></html>'"
      ]
     },
     "execution_count": 3,
     "metadata": {},
     "output_type": "execute_result"
    }
   ],
   "source": [
    "request.text"
   ]
  },
  {
   "cell_type": "code",
   "execution_count": 4,
   "metadata": {
    "ExecuteTime": {
     "end_time": "2018-12-31T12:28:20.037700Z",
     "start_time": "2018-12-31T12:28:20.027047Z"
    }
   },
   "outputs": [
    {
     "data": {
      "text/plain": [
       "True"
      ]
     },
     "execution_count": 4,
     "metadata": {},
     "output_type": "execute_result"
    }
   ],
   "source": [
    "# Page is a \"JavaScript app\" and we need some more magic to be able to fetch it\n",
    "'You need to enable JavaScript to run this app.' in request.text"
   ]
  },
  {
   "cell_type": "code",
   "execution_count": 5,
   "metadata": {
    "ExecuteTime": {
     "end_time": "2018-12-31T12:28:20.569259Z",
     "start_time": "2018-12-31T12:28:20.044561Z"
    }
   },
   "outputs": [],
   "source": [
    "# For selenium to work we also need to download chromium webdriver\n",
    "# Please refer to selenium webpage for a how-to\n",
    "# It is already in the attached virtual environment\n",
    "from selenium import webdriver"
   ]
  },
  {
   "cell_type": "code",
   "execution_count": 6,
   "metadata": {
    "ExecuteTime": {
     "end_time": "2018-12-31T12:28:23.366310Z",
     "start_time": "2018-12-31T12:28:20.571392Z"
    }
   },
   "outputs": [],
   "source": [
    "# Don't close a new Chrome window that opens\n",
    "driver = webdriver.Chrome('chromedriver')"
   ]
  },
  {
   "cell_type": "code",
   "execution_count": 7,
   "metadata": {
    "ExecuteTime": {
     "end_time": "2018-12-31T12:28:25.505663Z",
     "start_time": "2018-12-31T12:28:23.369578Z"
    }
   },
   "outputs": [],
   "source": [
    "driver.get('http://ucreate.it')"
   ]
  },
  {
   "cell_type": "code",
   "execution_count": 8,
   "metadata": {
    "ExecuteTime": {
     "end_time": "2018-12-31T12:28:25.528378Z",
     "start_time": "2018-12-31T12:28:25.508475Z"
    }
   },
   "outputs": [
    {
     "data": {
      "text/plain": [
       "'https://ucreate.it/'"
      ]
     },
     "execution_count": 8,
     "metadata": {},
     "output_type": "execute_result"
    }
   ],
   "source": [
    "driver.current_url"
   ]
  },
  {
   "cell_type": "code",
   "execution_count": 9,
   "metadata": {
    "ExecuteTime": {
     "end_time": "2018-12-31T12:28:25.559672Z",
     "start_time": "2018-12-31T12:28:25.530996Z"
    }
   },
   "outputs": [
    {
     "data": {
      "text/plain": [
       "True"
      ]
     },
     "execution_count": 9,
     "metadata": {},
     "output_type": "execute_result"
    }
   ],
   "source": [
    "webpage_text = driver.page_source\n",
    "'Turn your idea into a successful tech business' in webpage_text"
   ]
  },
  {
   "cell_type": "markdown",
   "metadata": {},
   "source": [
    "Mission accomplished :)"
   ]
  },
  {
   "cell_type": "markdown",
   "metadata": {},
   "source": [
    "## Cloud Flare protection"
   ]
  },
  {
   "cell_type": "code",
   "execution_count": 10,
   "metadata": {
    "ExecuteTime": {
     "end_time": "2018-12-31T12:28:25.573122Z",
     "start_time": "2018-12-31T12:28:25.562943Z"
    }
   },
   "outputs": [],
   "source": [
    "# When you visit for the first time https://tether.to\n",
    "# You should be able to see `Checking your browser before accessing tether.to.`\n",
    "# You will see it only once, but you forcefully see it again by checking the webpage in Incognito Mode."
   ]
  },
  {
   "cell_type": "code",
   "execution_count": 11,
   "metadata": {
    "ExecuteTime": {
     "end_time": "2018-12-31T12:28:25.735299Z",
     "start_time": "2018-12-31T12:28:25.576199Z"
    }
   },
   "outputs": [
    {
     "data": {
      "text/plain": [
       "<Response [503]>"
      ]
     },
     "execution_count": 11,
     "metadata": {},
     "output_type": "execute_result"
    }
   ],
   "source": [
    "requests.get('https://tether.to/')"
   ]
  },
  {
   "cell_type": "code",
   "execution_count": 22,
   "metadata": {
    "ExecuteTime": {
     "end_time": "2018-12-31T12:33:05.764014Z",
     "start_time": "2018-12-31T12:33:05.758666Z"
    }
   },
   "outputs": [],
   "source": [
    "import cfscrape\n",
    "\n",
    "scrapper_session = cfscrape.CloudflareScraper()"
   ]
  },
  {
   "cell_type": "code",
   "execution_count": 13,
   "metadata": {
    "ExecuteTime": {
     "end_time": "2018-12-31T12:28:35.921201Z",
     "start_time": "2018-12-31T12:28:25.754501Z"
    }
   },
   "outputs": [
    {
     "data": {
      "text/plain": [
       "<Response [200]>"
      ]
     },
     "execution_count": 13,
     "metadata": {},
     "output_type": "execute_result"
    }
   ],
   "source": [
    "scrapper_session.get('https://tether.to/')"
   ]
  },
  {
   "cell_type": "code",
   "execution_count": 14,
   "metadata": {
    "ExecuteTime": {
     "end_time": "2018-12-31T12:28:37.126580Z",
     "start_time": "2018-12-31T12:28:35.923976Z"
    }
   },
   "outputs": [
    {
     "data": {
      "text/plain": [
       "'<!DOCTYPE html>\\r\\n<html itemscope=\"itemscope\" itemtype=\"http://schema.org/WebPage\" xmlns=\"https://www.w3.org/1999/xhtml\" lang=\"en-US\">\\r\\n            \\r\\n    <head>\\r\\n        <meta charset=\"UTF-8\" />\\r\\n        <meta name=\"viewport\" content=\"width=device-width, initial-scale=1.0, minimum-scale=1.0, maximum-scale=1.0, user-scalable=0\" />\\r\\n          <meta http-equiv=\"X-UA-Compatible\" content=\"IE=edge,chrome=1\" />\\r\\n          <meta http-equiv=\"Content-Type\" content=\"text/html; charset=utf-8\"/>\\r\\n          <meta name=\"format-detection\" content=\"telephone=no\">\\r\\n        <title itemprop=\"name\">\\r\\n        Tether         </title>\\r\\n\\r\\n                  <link rel=\"shortcut icon\" href=\"https://tether.to/wp-content/uploads/2018/09/TetherFavicon_diamon.png\"  />\\r\\n                        <link rel=\"apple-touch-icon-precomposed\" href=\"http://54.93.40.236/wp-content/uploads/2015/04/Tether_57.png\">\\r\\n                        <link rel=\"apple-touch-icon-precomposed\" sizes=\"114x114\" href=\"http://54.93.40.236/wp-content/uploads/2015/04/Tether114.png\">\\r\\n                        <link rel=\"apple-touch-icon-precomposed\" sizes=\"72x72\" href=\"http://54.93.40.236/wp-content/uploads/2015/04/Tether_72.png\">\\r\\n                        <link rel=\"apple-touch-icon-precomposed\" sizes=\"144x144\" href=\"http://54.93.40.236/wp-content/uploads/2015/04/Tether_144.png\">\\r\\n                <link rel=\"alternate\" type=\"application/rss+xml\" title=\"Tether RSS Feed\" href=\"https://tether.to/feed/\">\\r\\n        <link rel=\"alternate\" type=\"application/atom+xml\" title=\"Tether Atom Feed\" href=\"https://tether.to/feed/atom/\">\\r\\n        <link rel=\"pingback\" href=\"https://tether.to/xmlrpc.php\">\\r\\n\\r\\n         <!--[if lt IE 9]>\\r\\n         <script src=\"https://tether.to/wp-content/themes/jupiter/js/html5shiv.js\" type=\"text/javascript\"></script>\\r\\n         <link rel=\\'stylesheet\\' href=\\'https://tether.to/wp-content/themes/jupiter/stylesheet/css/ie.css\\' /> \\r\\n         <![endif]-->\\r\\n         <!--[if IE 7 ]>\\r\\n               <link href=\"https://tether.to/wp-content/themes/jupiter/stylesheet/css/ie7.css\" media=\"screen\" rel=\"stylesheet\" type=\"text/css\" />\\r\\n               <![endif]-->\\r\\n         <!--[if IE 8 ]>\\r\\n               <link href=\"https://tether.to/wp-content/themes/jupiter/stylesheet/css/ie8.css\" media=\"screen\" rel=\"stylesheet\" type=\"text/css\" />\\r\\n         <![endif]-->\\r\\n\\r\\n         <!--[if lte IE 8]>\\r\\n            <script type=\"text/javascript\" src=\"https://tether.to/wp-content/themes/jupiter/js/respond.js\"></script>\\r\\n         <![endif]-->\\r\\n\\r\\n        <script type=\"text/javascript\" src=\"https://www.youtube.com/player_api\"></script>\\r\\n        <script type=\"text/javascript\" src=\"https://a.vimeocdn.com/js/froogaloop2.min.js\"></script>\\r\\n\\r\\n         \\r\\n         <script type=\"text/javascript\">\\r\\n          // Init aplication namespace \\r\\n          var abb = {};\\r\\n          var php = {};\\r\\n          \\r\\n          var mk_header_parallax, mk_banner_parallax, mk_page_parallax, mk_footer_parallax, mk_body_parallax;\\r\\n          var mk_images_dir = \"https://tether.to/wp-content/themes/jupiter/images\",\\r\\n          mk_theme_js_path = \"https://tether.to/wp-content/themes/jupiter/js\",\\r\\n          mk_theme_dir = \"https://tether.to/wp-content/themes/jupiter\",\\r\\n          mk_captcha_placeholder = \"Enter Captcha\",\\r\\n          mk_captcha_invalid_txt = \"Invalid. Try again.\",\\r\\n          mk_captcha_correct_txt = \"Captcha correct.\",\\r\\n          mk_responsive_nav_width = 1140,\\r\\n          mk_grid_width = 1140,\\r\\n          mk_ajax_search_option = \"disable\",\\r\\n          mk_preloader_txt_color = \"#444444\",\\r\\n          mk_preloader_bg_color = \"#ffffff\",\\r\\n          mk_accent_color = \"#22a079\",\\r\\n          mk_preloader_bar_color = \"#22a079\",\\r\\n          mk_preloader_logo = \"\";\\r\\n                    var mk_header_parallax = false,\\r\\n          mk_banner_parallax = false,\\r\\n          mk_page_parallax = false,\\r\\n          mk_footer_parallax = false,\\r\\n          mk_body_parallax = false,\\r\\n          mk_no_more_posts = \"No More Posts\";\\r\\n                    \\r\\n          function is_touch_device() {\\r\\n              return (\\'ontouchstart\\' in document.documentElement);\\r\\n          }\\r\\n          \\r\\n         </script>\\r\\n    <script type=\"text/javascript\">var ajaxurl = \"https://tether.to/wp-admin/admin-ajax.php\"</script><link rel=\"alternate\" type=\"application/rss+xml\" title=\"Tether &raquo; Feed\" href=\"https://tether.to/feed/\" />\\n<link rel=\"alternate\" type=\"application/rss+xml\" title=\"Tether &raquo; Comments Feed\" href=\"https://tether.to/comments/feed/\" />\\n<link rel=\"alternate\" type=\"application/rss+xml\" title=\"Tether &raquo; Home Comments Feed\" href=\"https://tether.to/home/feed/\" />\\n<link rel=\\'stylesheet\\' id=\\'contact-form-7-css\\'  href=\\'https://tether.to/wp-content/plugins/contact-form-7/includes/css/styles.css?ver=4.1.1\\' type=\\'text/css\\' media=\\'all\\' />\\n<link rel=\\'stylesheet\\' id=\\'theme-styles-css\\'  href=\\'https://tether.to/wp-content/themes/jupiter/stylesheet/css/theme-styles.min.css?ver=4.1.18\\' type=\\'text/css\\' media=\\'all\\' />\\n<link rel=\\'stylesheet\\' id=\\'pe-line-icon-css\\'  href=\\'https://tether.to/wp-content/themes/jupiter/stylesheet/css/pe-line-icons.min.css?ver=4.1.18\\' type=\\'text/css\\' media=\\'all\\' />\\n<link rel=\\'stylesheet\\' id=\\'font-awesome-css\\'  href=\\'https://tether.to/wp-content/themes/jupiter/stylesheet/css/font-awesome.min.css?ver=4.1.18\\' type=\\'text/css\\' media=\\'all\\' />\\n<link rel=\\'stylesheet\\' id=\\'icomoon-fonts-css\\'  href=\\'https://tether.to/wp-content/themes/jupiter/stylesheet/css/icomoon-fonts.min.css?ver=4.1.18\\' type=\\'text/css\\' media=\\'all\\' />\\n<link rel=\\'stylesheet\\' id=\\'theme-icons-css\\'  href=\\'https://tether.to/wp-content/themes/jupiter/stylesheet/css/theme-icons.min.css?ver=4.1.18\\' type=\\'text/css\\' media=\\'all\\' />\\n<link rel=\\'stylesheet\\' id=\\'google-font-api-special-1-css\\'  href=\\'https://fonts.googleapis.com/css?family=Lato%3A300italic%2C400italic%2C600italic%2C700italic%2C800italic%2C900italic%2C900%2C400%2C300%2C800%2C700%2C600%3A&#038;subset=latin&#038;ver=4.1.18\\' type=\\'text/css\\' media=\\'all\\' />\\n<link rel=\\'stylesheet\\' id=\\'google-font-api-special-2-css\\'  href=\\'https://fonts.googleapis.com/css?family=Lato%3A300italic%2C400italic%2C600italic%2C700italic%2C800italic%2C900italic%2C900%2C400%2C300%2C800%2C700%2C600&#038;ver=4.1.18\\' type=\\'text/css\\' media=\\'all\\' />\\n<link rel=\\'stylesheet\\' id=\\'mk-style-css\\'  href=\\'https://tether.to/wp-content/themes/Jupiter-child/style.css?ver=4.1.18\\' type=\\'text/css\\' media=\\'all\\' />\\n<link rel=\\'stylesheet\\' id=\\'theme-dynamic-styles-css\\'  href=\\'https://tether.to/wp-content/themes/jupiter/custom.css?ver=4.1.18\\' type=\\'text/css\\' media=\\'all\\' />\\n<style id=\\'theme-dynamic-styles-inline-css\\' type=\\'text/css\\'>\\nbody {}body, p {font-family: Lato }h1, h2, h3, h4, h5, h6 {font-family: Lato }body{background-color: #fff;}#mk-header{background-color: #f7f7f7;}.mk-header-bg{background-color: #fff;}.mk-header-toolbar{background-color: #ffffff;}#theme-page{background-color: #fff;}#mk-footer{background-color: #f8f8f8;}#mk-footer .footer-wrapper{padding:30px 0;}#mk-footer .widget{margin-bottom:40px;}#mk-footer [class*=\\'mk-col-\\'] {padding:0 2%;}#sub-footer{background-color: #f8f8f8;}.mk-footer-copyright {font-size:11px;letter-spacing: 1px;}#mk-boxed-layout{  -webkit-box-shadow: 0 0 0px rgba(0, 0, 0, 0);  -moz-box-shadow: 0 0 0px rgba(0, 0, 0, 0);  box-shadow: 0 0 0px rgba(0, 0, 0, 0);}.mk-tabs-panes,.mk-news-tab .mk-tabs-tabs li.ui-tabs-active a,.mk-divider .divider-go-top,.ajax-container,.mk-fancy-title.pattern-style span,.mk-portfolio-view-all,.mk-woo-view-all,.mk-blog-view-all{background-color: #fff;}.mk-header-bg{  -webkit-opacity: 0;  -moz-opacity: 0;  -o-opacity: 0;  opacity: 0;}.header-sticky-ready .mk-header-bg{  -webkit-opacity: 0;  -moz-opacity: 0;  -o-opacity: 0;  opacity: 0;}.mk-header-inner,.header-sticky-ready .mk-header-inner,.header-style-2.header-sticky-ready .mk-classic-nav-bg{border-bottom:0px solid #ededed;}.header-style-4.header-align-left .mk-header-inner,.header-style-4.header-align-center .mk-header-inner {border-bottom:none;border-right:0px solid #ededed;}.header-style-4.header-align-right .mk-header-inner {border-bottom:none;border-left:0px solid #ededed;}.header-style-2 .mk-header-nav-container {border-top:0px solid #ededed;}body{font-size: 16px;color: #3e4552;font-weight: normal;line-height: 1.66em;}p,.mk-box-icon-2-content {font-size: 16px;color: #3e4552;line-height: 1.66em;}a {color: #22a079;}a:hover {color: #3e4552;}#theme-page strong {color: #3e4552;}#theme-page h1{font-size: 42px;color: #3e4552;font-weight: lighter;text-transform: none;}#theme-page h2{font-size: 34px;color: #3e4552;font-weight: lighter;text-transform: none;}#theme-page h3{font-size: 21px;color: #3e4552;font-weight: lighter;text-transform: none;}#theme-page h4{font-size: 18px;color: #3e4552;font-weight: lighter;text-transform: none;}#theme-page h5{font-size: 16px;color: #3e4552;font-weight: lighter;text-transform: none;}#theme-page h6{font-size: 14px;color: #3e4552;font-weight: normal;text-transform: uppercase;}.page-introduce-title{font-size: 20px;color: ;text-transform: uppercase;font-weight: normal;letter-spacing: 2px;}.page-introduce-subtitle{font-size: 14px;line-height: 100%;color: ;font-size: 14px;text-transform: none;}::-webkit-selection{background-color: #22a079;color:#fff;}::-moz-selection{background-color: #22a079;color:#fff;}::selection{background-color: #22a079;color:#fff;}#mk-sidebar,#mk-sidebar p{font-size: 14px;color: #999999;font-weight: normal;}#mk-sidebar .widgettitle{text-transform: uppercase;font-size: 14px;color: #333333;font-weight: bolder;}#mk-sidebar .widgettitle a{color: #333333;}#mk-sidebar .widget a{color: #999999;}#mk-footer,#mk-footer p{font-size: 14px;color: #808080;font-weight: normal;}#mk-footer .widgettitle{text-transform: uppercase;font-size: 14px;color: #393836;font-weight: 800;}#mk-footer .widgettitle a{color: #393836;}#mk-footer .widget:not(.widget_social_networks) a{color: #999999;}.mk-side-dashboard {background-color: #f8f8f8;}.mk-side-dashboard,.mk-side-dashboard p{font-size: 12px;color: #eeeeee;font-weight: normal;}.mk-side-dashboard .widgettitle{text-transform: uppercase;font-size: 14px;color: #ffffff;font-weight: 800;}.mk-side-dashboard .widgettitle a{color: #ffffff;}.mk-side-dashboard .widget a{color: #fafafa;}.sidedash-navigation-ul li a,.sidedash-navigation-ul li .mk-nav-arrow {color:#ffffff;}.sidedash-navigation-ul li a:hover {color:#ffffff;background-color:;}.mk-fullscreen-nav{background-color:#444444;}.mk-fullscreen-nav .mk-fullscreen-nav-wrapper .mk-fullscreen-nav-logo {margin-bottom: 125px;}.mk-fullscreen-nav .fullscreen-navigation-ul .menu-item a{color: #ffffff;text-transform: uppercase;font-size: 16px;letter-spacing: 0;font-weight: 800;padding: 25px 0;color: #ffffff;}.mk-fullscreen-nav .fullscreen-navigation-ul .menu-item a:hover{background-color: #ffffff;color: #444444;}#mk-sidebar .widget:not(.widget_social_networks) a:hover {color: #22a079;}#mk-footer .widget:not(.widget_social_networks) a:hover {color: #22a079;}.mk-side-dashboard .widget:not(.widget_social_networks) a:hover{color: #22a079;}.mk-grid{max-width: 1140px;}.mk-header-nav-container, .mk-classic-menu-wrapper{width: 1140px;}.theme-page-wrapper #mk-sidebar.mk-builtin{width: 27%;}.theme-page-wrapper.right-layout .theme-content,.theme-page-wrapper.left-layout .theme-content{width: 73%;}.mk-boxed-enabled #mk-boxed-layout,.mk-boxed-enabled #mk-boxed-layout .header-style-1 .mk-header-holder,.mk-boxed-enabled #mk-boxed-layout .header-style-3 .mk-header-holder{max-width: 1200px;}.mk-boxed-enabled #mk-boxed-layout .header-style-1 .mk-header-holder,.mk-boxed-enabled #mk-boxed-layout .header-style-3 .mk-header-holder{width: 100% !important;left:auto !important;}.mk-boxed-enabled #mk-boxed-layout .header-style-2.header-sticky-ready .mk-header-nav-container {width: 1200px !important;left:auto !important;}.header-style-1 .mk-header-start-tour,.header-style-3 .mk-header-start-tour,.header-style-1 .mk-header-inner #mk-header-search,.header-style-1 .mk-header-inner,.header-style-1 .mk-search-trigger,.header-style-3 .mk-header-inner,.header-style-1 .header-logo,.header-style-3 .header-logo,.header-style-1 .shopping-cart-header,.header-style-3 .shopping-cart-header,.header-style-1 #mk-header-social.header-section a,.header-style-2 #mk-header-social.header-section a,.header-style-3 #mk-header-social.header-section a{height: 90px;line-height:90px;}@media handheld, only screen and (max-width: 1140px){.header-grid.mk-grid .header-logo.left-logo{left: 15px !important;}.header-grid.mk-grid .header-logo.right-logo, .mk-header-right {right: 15px !important;}}#mk-theme-container:not(.mk-transparent-header) .header-style-1 .mk-header-padding-wrapper,#mk-theme-container:not(.mk-transparent-header) .header-style-3 .mk-header-padding-wrapper {padding-top:90px;}@media handheld, only screen and (max-width: 960px){.theme-page-wrapper .theme-content{width: 100% !important;float: none !important;}.theme-page-wrapper{padding-right:15px !important;padding-left: 15px !important;}.theme-page-wrapper .theme-content:not(.no-padding){padding:25px 0 !important;}.theme-page-wrapper #mk-sidebar{width: 100% !important;float: none !important;padding: 0 !important;}.theme-page-wrapper #mk-sidebar .sidebar-wrapper{padding:20px 0 !important;}}@media handheld, only screen and (max-width: 1140px){.mk-go-top,.mk-quick-contact-wrapper{bottom:70px !important;}.mk-grid {width: 100%;}.mk-padding-wrapper {padding: 0 20px;} }#mk-toolbar-navigation ul li a,.mk-language-nav > a,.mk-header-login .mk-login-link,.mk-subscribe-link,.mk-checkout-btn,.mk-header-tagline a,.header-toolbar-contact a,#mk-toolbar-navigation ul li a:hover,.mk-language-nav > a:hover,.mk-header-login .mk-login-link:hover,.mk-subscribe-link:hover,.mk-checkout-btn:hover,.mk-header-tagline a:hover{color:#999999;}.mk-header-tagline,.header-toolbar-contact,.mk-header-date{color:#999999;}.mk-header-toolbar #mk-header-social a i {color:#999999;}.header-section#mk-header-social ul li a i {color: #999999;}.header-section#mk-header-social ul li a:hover i {color: #cccccc;}.header-style-2 .header-logo,.header-style-4 .header-logo{height: 90px !important;}.header-style-4 .header-logo {margin:10px 0;}.header-style-2 .mk-header-inner{line-height:90px;}.mk-header-nav-container{background-color: ;}.mk-header-start-tour{font-size: 14px;color: #333333;}.mk-header-start-tour:hover{color: #333333;}.mk-classic-nav-bg{background-color: #fff;}.mk-search-trigger,.mk-shoping-cart-link i,.mk-header-cart-count,.mk-toolbar-resposnive-icon i{color: #ffffff;}.mk-css-icon-close div,.mk-css-icon-menu div {background-color: #ffffff;}#mk-header-searchform .text-input{background-color: !important;color: #c7c7c7;}#mk-header-searchform span i{color: #c7c7c7;}#mk-header-searchform .text-input::-webkit-input-placeholder{color: #c7c7c7;}#mk-header-searchform .text-input:-ms-input-placeholder{color: #c7c7c7;}#mk-header-searchform .text-input:-moz-placeholder{color: #c7c7c7;}.header-style-1.header-sticky-ready .menu-hover-style-1 .main-navigation-ul > li > a,.header-style-3.header-sticky-ready .menu-hover-style-1 .main-navigation-ul > li > a,.header-style-1.header-sticky-ready .menu-hover-style-5 .main-navigation-ul > li,.header-style-1.header-sticky-ready .menu-hover-style-2 .main-navigation-ul > li > a,.header-style-3.header-sticky-ready .menu-hover-style-2 .main-navigation-ul > li > a,.header-style-1.header-style-1.header-sticky-ready .menu-hover-style-4 .main-navigation-ul > li > a,.header-style-3.header-sticky-ready .menu-hover-style-4 .main-navigation-ul > li > a,.header-style-1.header-sticky-ready .menu-hover-style-3 .main-navigation-ul > li,.header-style-1.header-sticky-ready .mk-header-inner #mk-header-search,.header-style-3.header-sticky-ready .mk-header-holder #mk-header-search,.header-sticky-ready.header-style-3 .mk-header-start-tour,.header-sticky-ready.header-style-1 .mk-header-start-tour,.header-sticky-ready.header-style-1 .mk-header-inner,.header-sticky-ready.header-style-3 .mk-header-inner,.header-sticky-ready.header-style-3 .header-logo,.header-sticky-ready.header-style-1 .header-logo,.header-sticky-ready.header-style-1 .mk-search-trigger,.header-sticky-ready.header-style-1 .mk-search-trigger i,.header-sticky-ready.header-style-1 .shopping-cart-header,.header-sticky-ready.header-style-1 .shopping-cart-header i,.header-sticky-ready.header-style-3 .shopping-cart-header,.header-sticky-ready.header-style-1 #mk-header-social.header-section a,.header-sticky-ready.header-style-3 #mk-header-social.header-section a{height:55px !important;line-height:55px !important;}#mk-header-social.header-section a.small {margin-top: 28px;}#mk-header-social.header-section a.medium {margin-top: 20px;}#mk-header-social.header-section a.large {margin-top: 12px;}.header-sticky-ready #mk-header-social.header-section a.small,.header-sticky-ready #mk-header-social.header-section a.medium,.header-sticky-ready #mk-header-social.header-section a.large {margin-top: 10.5px;line-height: 16px !important;height: 16px !important;font-size: 16px !important;width: 16px !important;padding: 8px !important;}.header-sticky-ready #mk-header-social.header-section a.small i:before,.header-sticky-ready #mk-header-social.header-section a.medium i:before,.header-sticky-ready #mk-header-social.header-section a.large i:before {line-height: 16px !important;font-size: 16px !important;}.main-navigation-ul > li.menu-item > a.menu-item-link{color: #ffffff;font-size: 13px;font-weight: bold;padding-right:20px;padding-left:20px;text-transform:uppercase;letter-spacing:0px;}.mk-vm-menuwrapper ul li a {color: #ffffff;font-size: 13px;font-weight: bold;text-transform:uppercase;}.mk-vm-menuwrapper li > a:after,.mk-vm-menuwrapper li.mk-vm-back:after {color: #ffffff;}.main-navigation-ul > li.no-mega-menu ul.sub-menu li.menu-item a.menu-item-link {width:230px;}.mk-header-3-menu-trigger {color: #ffffff;}.menu-hover-style-1 .main-navigation-ul li.menu-item > a.menu-item-link:hover,.menu-hover-style-1 .main-navigation-ul li.menu-item:hover > a.menu-item-link,.menu-hover-style-1 .main-navigation-ul li.current-menu-item > a.menu-item-link,.menu-hover-style-1 .main-navigation-ul li.current-menu-ancestor > a.menu-item-link,.menu-hover-style-2 .main-navigation-ul li.menu-item > a.menu-item-link:hover,.menu-hover-style-2 .main-navigation-ul li.menu-item:hover > a.menu-item-link,.menu-hover-style-2 .main-navigation-ul li.current-menu-item > a.menu-item-link,.menu-hover-style-2 .main-navigation-ul li.current-menu-ancestor > a.menu-item-link,.menu-hover-style-1.mk-vm-menuwrapper li.menu-item > a:hover,.menu-hover-style-1.mk-vm-menuwrapper li.menu-item:hover > a,.menu-hover-style-1.mk-vm-menuwrapper li.current-menu-item > a,.menu-hover-style-1.mk-vm-menuwrapper li.current-menu-ancestor > a,.menu-hover-style-2.mk-vm-menuwrapper li.menu-item > a:hover,.menu-hover-style-2.mk-vm-menuwrapper li.menu-item:hover > a,.menu-hover-style-2.mk-vm-menuwrapper li.current-menu-item > a,.menu-hover-style-2.mk-vm-menuwrapper li.current-menu-ancestor > a{color: #ffffff !important;}.menu-hover-style-3 .main-navigation-ul > li.menu-item > a.menu-item-link:hover,.menu-hover-style-3 .main-navigation-ul > li.menu-item:hover > a.menu-item-link,.menu-hover-style-3.mk-vm-menuwrapper li > a:hover,.menu-hover-style-3.mk-vm-menuwrapper li:hover > a{border:2px solid #ffffff;}.menu-hover-style-3 .main-navigation-ul > li.current-menu-item > a.menu-item-link,.menu-hover-style-3 .main-navigation-ul > li.current-menu-ancestor > a.menu-item-link,.menu-hover-style-3.mk-vm-menuwrapper li.current-menu-item > a,.menu-hover-style-3.mk-vm-menuwrapper li.current-menu-ancestor > a{border:2px solid #ffffff;background-color:#ffffff;color:#ffffff;}.menu-hover-style-3.mk-vm-menuwrapper li.current-menu-ancestor > a:after {color:#ffffff;}.menu-hover-style-4 .main-navigation-ul li.menu-item > a.menu-item-link:hover,.menu-hover-style-4 .main-navigation-ul li.menu-item:hover > a.menu-item-link,.menu-hover-style-4 .main-navigation-ul li.current-menu-item > a.menu-item-link,.menu-hover-style-4 .main-navigation-ul li.current-menu-ancestor > a.menu-item-link,.menu-hover-style-4.mk-vm-menuwrapper li a:hover,.menu-hover-style-4.mk-vm-menuwrapper li:hover > a,.menu-hover-style-4.mk-vm-menuwrapper li.current-menu-item > a,.menu-hover-style-4.mk-vm-menuwrapper li.current-menu-ancestor > a,.menu-hover-style-5 .main-navigation-ul > li.menu-item > a.menu-item-link:after{background-color: #ffffff;color:#ffffff;}.menu-hover-style-4.mk-vm-menuwrapper li.current-menu-ancestor > a:after,.menu-hover-style-4.mk-vm-menuwrapper li.current-menu-item > a:after,.menu-hover-style-4.mk-vm-menuwrapper li:hover > a:after,.menu-hover-style-4.mk-vm-menuwrapper li a:hover::after {color:#ffffff;}.menu-hover-style-1 .main-navigation-ul > li.dropdownOpen > a.menu-item-link,.menu-hover-style-1 .main-navigation-ul > li.active > a.menu-item-link,.menu-hover-style-1 .main-navigation-ul > li.open > a.menu-item-link,.menu-hover-style-1 .main-navigation-ul > li.menu-item > a:hover,.menu-hover-style-1 .main-navigation-ul > li.current-menu-item > a.menu-item-link,.menu-hover-style-1 .main-navigation-ul > li.current-menu-ancestor > a.menu-item-link {border-top-color:#ffffff;}.menu-hover-style-1.mk-vm-menuwrapper li > a:hover,.menu-hover-style-1.mk-vm-menuwrapper li.current-menu-item > a,.menu-hover-style-1.mk-vm-menuwrapper li.current-menu-ancestor > a{border-left-color:#ffffff;}.header-style-1 .menu-hover-style-1 .main-navigation-ul > li > a,.header-style-1 .menu-hover-style-2 .main-navigation-ul > li > a,.header-style-1 .menu-hover-style-4 .main-navigation-ul > li > a,.header-style-1 .menu-hover-style-5 .main-navigation-ul > li {height: 90px;line-height:90px;}.header-style-1 .menu-hover-style-3 .main-navigation-ul > li,.header-style-1 .menu-hover-style-5 .main-navigation-ul > li{height: 90px;line-height:90px;}.header-style-1 .menu-hover-style-3 .main-navigation-ul > li > a {line-height:45px;}.header-style-1.header-sticky-ready .menu-hover-style-3 .main-navigation-ul > li > a {line-height:36.666666666667px;}.header-style-1 .menu-hover-style-5 .main-navigation-ul > li > a {line-height:20px;vertical-align:middle;}.main-navigation-ul > li.no-mega-menu  ul.sub-menu:after,.main-navigation-ul > li.has-mega-menu > ul.sub-menu:after{  background-color:#ffffff;}.mk-shopping-cart-box {border-top:2px solid #ffffff;}#mk-main-navigation li.no-mega-menu ul.sub-menu,#mk-main-navigation li.has-mega-menu > ul.sub-menu,.mk-shopping-cart-box{background-color: #333333;}#mk-main-navigation ul.sub-menu a.menu-item-link,#mk-main-navigation ul .megamenu-title,.megamenu-widgets-container a,.mk-shopping-cart-box .product_list_widget li a,.mk-shopping-cart-box .product_list_widget li.empty,.mk-shopping-cart-box .product_list_widget li span,.mk-shopping-cart-box .widget_shopping_cart .total{color: #ffffff;}.mk-shopping-cart-box .mk-button.cart-widget-btn {border-color:#ffffff;color:#ffffff;}.mk-shopping-cart-box .mk-button.cart-widget-btn:hover {background-color:#ffffff;color:#333333;}#mk-main-navigation ul .megamenu-title{color: #ffffff;}#mk-main-navigation ul .megamenu-title:after{background-color: #ffffff;}.megamenu-widgets-container {color: #ffffff;}.megamenu-widgets-container .widgettitle{text-transform: uppercase;font-size: 14px;font-weight: bolder;}#mk-main-navigation ul.sub-menu li.menu-item ul.sub-menu li.menu-item a.menu-item-link i{color: #e0e0e0;}#mk-main-navigation ul.sub-menu a.menu-item-link:hover{color: #ffffff !important;}.megamenu-widgets-container a:hover {color: #ffffff;}.main-navigation-ul li.menu-item ul.sub-menu li.menu-item a.menu-item-link:hover,.main-navigation-ul li.menu-item ul.sub-menu li.menu-item:hover > a.menu-item-link,.main-navigation-ul ul.sub-menu li.menu-item a.menu-item-link:hover,.main-navigation-ul ul.sub-menu li.menu-item:hover > a.menu-item-link,.main-navigation-ul ul.sub-menu li.current-menu-item > a.menu-item-link{background-color: !important;}.mk-search-trigger:hover,.mk-header-start-tour:hover{color: #ffffff;}.main-navigation-ul li.menu-item ul.sub-menu li.menu-item a.menu-item-link{font-size: 12px;font-weight: normal;text-transform:uppercase;letter-spacing: 1px;}.has-mega-menu .megamenu-title {letter-spacing: 1px;}.header-style-4 {text-align : left}.mk-vm-menuwrapper li > a {padding-right: 45px;}@media handheld, only screen and (max-width: 1140px){.header-style-1 .mk-header-inner,.header-style-3 .mk-header-inner,.header-style-3 .header-logo,.header-style-1 .header-logo,.header-style-1 .shopping-cart-header,.header-style-3 .shopping-cart-header{height:90px;line-height:90px;}#mk-header:not(.header-style-4) .mk-header-holder {position:relative !important;top:0 !important;}.mk-header-padding-wrapper {display:none !important;}.mk-header-nav-container{width: auto !important;display:none;}.header-style-1 .mk-header-right,.header-style-2 .mk-header-right,.header-style-3 .mk-header-right {right:55px !important;}.header-style-1 .mk-header-inner #mk-header-search,.header-style-2 .mk-header-inner #mk-header-search,.header-style-3 .mk-header-inner #mk-header-search{display:none !important;}.mk-fullscreen-search-overlay {display:none;}#mk-header-search{padding-bottom: 10px !important;}#mk-header-searchform span .text-input{width: 100% !important;}.header-style-2 .header-logo .center-logo{    text-align: right !important;}.header-style-2 .header-logo .center-logo a{    margin: 0 !important;}.header-logo,.header-style-4 .header-logo{    height: 90px !important;}.mk-header-inner{padding-top:0 !important;}.header-logo{position:relative !important;right:auto !important;left:auto !important;float:left !important;text-align:left;}.shopping-cart-header{margin:0 20px 0 0 !important;}#mk-responsive-nav{background-color:#ffffff !important;}.mk-header-nav-container #mk-responsive-nav{visibility: hidden;}#mk-responsive-nav li ul li .megamenu-title:hover,#mk-responsive-nav li ul li .megamenu-title,#mk-responsive-nav li a, #mk-responsive-nav li ul li a:hover,#mk-responsive-nav .mk-nav-arrow{  color:#22a079 !important;}.mk-mega-icon{display:none !important;}.mk-header-bg{zoom:1 !important;filter:alpha(opacity=100) !important;opacity:1 !important;}.header-style-1 .mk-nav-responsive-link,.header-style-2 .mk-nav-responsive-link{display:block !important;}.mk-header-nav-container{height:100%;z-index:200;}#mk-main-navigation{position:relative;z-index:2;}.mk_megamenu_columns_2,.mk_megamenu_columns_3,.mk_megamenu_columns_4,.mk_megamenu_columns_5,.mk_megamenu_columns_6{width:100% !important;}.header-style-1.header-align-right .header-logo img,.header-style-3.header-align-right .header-logo img,.header-style-3.header-align-center .header-logo img {float: left !important;right:auto !important;}.header-style-4 .mk-header-inner {width: auto !important;position: relative !important;overflow: visible;padding-bottom: 0;}.admin-bar .header-style-4 .mk-header-inner {top:0 !important;}.header-style-4 .mk-header-right {display: none;}.header-style-4 .mk-nav-responsive-link {display: block !important;}.header-style-4 .mk-vm-menuwrapper,.header-style-4 #mk-header-search {display: none;}.header-style-4 .header-logo {width:auto !important;display: inline-block !important;text-align:left !important;margin:0 !important;}.vertical-header-enabled .header-style-4 .header-logo img {max-width: 100% !important;left: 20px!important;top:50%!important;-webkit-transform: translate(0, -50%)!important;-moz-transform: translate(0, -50%)!important;-ms-transform: translate(0, -50%)!important;-o-transform: translate(0, -50%)!important;transform: translate(0, -50%)!important;position:relative !important;}.vertical-header-enabled.vertical-header-left #theme-page > .mk-main-wrapper-holder,.vertical-header-enabled.vertical-header-center #theme-page > .mk-main-wrapper-holder,.vertical-header-enabled.vertical-header-left #theme-page > .mk-page-section,.vertical-header-enabled.vertical-header-center #theme-page > .mk-page-section,.vertical-header-enabled.vertical-header-left #theme-page > .wpb_row,.vertical-header-enabled.vertical-header-center #theme-page > .wpb_row,.vertical-header-enabled.vertical-header-left #mk-theme-container:not(.mk-transparent-header), .vertical-header-enabled.vertical-header-center #mk-footer,.vertical-header-enabled.vertical-header-left #mk-footer,.vertical-header-enabled.vertical-header-center #mk-theme-container:not(.mk-transparent-header) {  padding-left: 0 !important;}.vertical-header-enabled.vertical-header-right #theme-page > .mk-main-wrapper-holder,.vertical-header-enabled.vertical-header-right #theme-page > .mk-page-section,.vertical-header-enabled.vertical-header-right #theme-page > .wpb_row,.vertical-header-enabled.vertical-header-right #mk-footer,.vertical-header-enabled.vertical-header-right #mk-theme-container:not(.mk-transparent-header) {  padding-right: 0 !important;}}@media handheld, only screen and (min-width: 1140px) {  .mk-transparent-header .sticky-style-slide .mk-header-holder {    position: absolute;  }  .mk-transparent-header .remove-header-bg-true:not(.header-sticky-ready) .mk-header-bg {    opacity: 0;  }  .mk-transparent-header .remove-header-bg-true#mk-header:not(.header-sticky-ready) .mk-header-inner {    border: 0;  }  .mk-transparent-header .remove-header-bg-true.light-header-skin:not(.header-sticky-ready) .mk-desktop-logo.light-logo {    display: block !important;  }  .mk-transparent-header .remove-header-bg-true.light-header-skin:not(.header-sticky-ready) .mk-desktop-logo.dark-logo {    display: none !important;  }  .mk-transparent-header .remove-header-bg-true.light-header-skin:not(.header-sticky-ready) .main-navigation-ul > li.menu-item > a.menu-item-link,  .mk-transparent-header .remove-header-bg-true.light-header-skin:not(.header-sticky-ready) .mk-search-trigger,  .mk-transparent-header .remove-header-bg-true.light-header-skin:not(.header-sticky-ready) .mk-shoping-cart-link i,  .mk-transparent-header .remove-header-bg-true.light-header-skin:not(.header-sticky-ready) .mk-header-cart-count,  .mk-transparent-header .remove-header-bg-true.light-header-skin:not(.header-sticky-ready) .mk-header-start-tour,  .mk-transparent-header .remove-header-bg-true.light-header-skin:not(.header-sticky-ready) #mk-header-social a i,  .mk-transparent-header .remove-header-bg-true.light-header-skin:not(.header-sticky-ready) .menu-hover-style-1 .main-navigation-ul > li.menu-item > a.menu-item-link:hover,  .mk-transparent-header .remove-header-bg-true.light-header-skin:not(.header-sticky-ready) .menu-hover-style-1 .main-navigation-ul > li.menu-item:hover > a.menu-item-link,  .mk-transparent-header .remove-header-bg-true.light-header-skin:not(.header-sticky-ready) .menu-hover-style-1 .main-navigation-ul > li.current-menu-item > a.menu-item-link,  .mk-transparent-header .remove-header-bg-true.light-header-skin:not(.header-sticky-ready) .menu-hover-style-1 .main-navigation-ul > li.current-menu-ancestor > a.menu-item-link,  .mk-transparent-header .remove-header-bg-true.light-header-skin:not(.header-sticky-ready) .menu-hover-style-2 .main-navigation-ul > li.menu-item > a.menu-item-link:hover,  .mk-transparent-header .remove-header-bg-true.light-header-skin:not(.header-sticky-ready) .menu-hover-style-2 .main-navigation-ul > li.menu-item:hover > a.menu-item-link,  .mk-transparent-header .remove-header-bg-true.light-header-skin:not(.header-sticky-ready) .menu-hover-style-2 .main-navigation-ul > li.current-menu-item > a.menu-item-link,  .mk-transparent-header .remove-header-bg-true.light-header-skin:not(.header-sticky-ready) .mk-vm-menuwrapper li a,  .mk-transparent-header .remove-header-bg-true.light-header-skin:not(.header-sticky-ready) .mk-vm-menuwrapper li > a:after,   .mk-transparent-header .remove-header-bg-true.light-header-skin:not(.header-sticky-ready) .mk-vm-menuwrapper li.mk-vm-back:after {    color: #fff !important;  }  .mk-transparent-header .remove-header-bg-true.light-header-skin:not(.header-sticky-ready) .mk-css-icon-menu div {    background-color: #fff !important;  }  .mk-transparent-header .remove-header-bg-true.light-header-skin:not(.header-sticky-ready) .menu-hover-style-1 .main-navigation-ul > li.dropdownOpen > a.menu-item-link,  .mk-transparent-header .remove-header-bg-true.light-header-skin:not(.header-sticky-ready) .menu-hover-style-1 .main-navigation-ul > li.active > a.menu-item-link,  .mk-transparent-header .remove-header-bg-true.light-header-skin:not(.header-sticky-ready) .menu-hover-style-1 .main-navigation-ul > li.open > a.menu-item-link,  .mk-transparent-header .remove-header-bg-true.light-header-skin:not(.header-sticky-ready) .menu-hover-style-1 .main-navigation-ul > li.menu-item > a:hover,  .mk-transparent-header .remove-header-bg-true.light-header-skin:not(.header-sticky-ready) .menu-hover-style-1 .main-navigation-ul > li.current-menu-item > a.menu-item-link,  .mk-transparent-header .remove-header-bg-true.light-header-skin:not(.header-sticky-ready) .menu-hover-style-1 .main-navigation-ul > li.current-menu-ancestor > a.menu-item-link {    border-top-color: #fff;  }  .mk-transparent-header .remove-header-bg-true.light-header-skin:not(.header-sticky-ready) .menu-hover-style-3 .main-navigation-ul > li.current-menu-item > a.menu-item-link,  .mk-transparent-header .remove-header-bg-true.light-header-skin:not(.header-sticky-ready) .menu-hover-style-3 .main-navigation-ul > li.current-menu-ancestor > a.menu-item-link,  .mk-transparent-header .remove-header-bg-true.light-header-skin:not(.header-sticky-ready) .menu-hover-style-3.mk-vm-menuwrapper li.current-menu-item > a,  .mk-transparent-header .remove-header-bg-true.light-header-skin:not(.header-sticky-ready) .menu-hover-style-3.mk-vm-menuwrapper li.current-menu-ancestor > a {    border: 2px solid #fff;    background-color: #fff;    color: #222 !important;  }  .mk-transparent-header .remove-header-bg-true.light-header-skin:not(.header-sticky-ready) .menu-hover-style-3 .main-navigation-ul > li.menu-item > a.menu-item-link:hover,  .mk-transparent-header .remove-header-bg-true.light-header-skin:not(.header-sticky-ready) .menu-hover-style-3 .main-navigation-ul > li.menu-item:hover > a.menu-item-link,  .mk-transparent-header .remove-header-bg-true.light-header-skin:not(.header-sticky-ready) .menu-hover-style-3.mk-vm-menuwrapper li > a:hover,  .mk-transparent-header .remove-header-bg-true.light-header-skin:not(.header-sticky-ready) .menu-hover-style-3.mk-vm-menuwrapper li:hover > a {    border: 2px solid #fff;  }  .mk-transparent-header .remove-header-bg-true.light-header-skin:not(.header-sticky-ready) .menu-hover-style-4 .main-navigation-ul li.menu-item > a.menu-item-link:hover,  .mk-transparent-header .remove-header-bg-true.light-header-skin:not(.header-sticky-ready) .menu-hover-style-4 .main-navigation-ul li.menu-item:hover > a.menu-item-link,  .mk-transparent-header .remove-header-bg-true.light-header-skin:not(.header-sticky-ready) .menu-hover-style-4 .main-navigation-ul li.current-menu-item > a.menu-item-link,  .mk-transparent-header .remove-header-bg-true.light-header-skin:not(.header-sticky-ready) .menu-hover-style-5 .main-navigation-ul > li.menu-item > a.menu-item-link:after {    background-color: #fff;    color: #222 !important;  }  .mk-transparent-header .remove-header-bg-true.dark-header-skin:not(.header-sticky-ready) .mk-desktop-logo.dark-logo {    display: block !important;  }  .mk-transparent-header .remove-header-bg-true.dark-header-skin:not(.header-sticky-ready) .mk-desktop-logo.light-logo {    display: none !important;  }  .mk-transparent-header .remove-header-bg-true.dark-header-skin:not(.header-sticky-ready) .main-navigation-ul > li.menu-item > a.menu-item-link,  .mk-transparent-header .remove-header-bg-true.dark-header-skin:not(.header-sticky-ready) .mk-search-trigger,  .mk-transparent-header .remove-header-bg-true.dark-header-skin:not(.header-sticky-ready) .mk-shoping-cart-link i,  .mk-transparent-header .remove-header-bg-true.dark-header-skin:not(.header-sticky-ready) .mk-header-cart-count,  .mk-transparent-header .remove-header-bg-true.dark-header-skin:not(.header-sticky-ready) .mk-header-start-tour,  .mk-transparent-header .remove-header-bg-true.dark-header-skin:not(.header-sticky-ready) #mk-header-social a i,  .mk-transparent-header .remove-header-bg-true.dark-header-skin:not(.header-sticky-ready) .menu-hover-style-1 .main-navigation-ul li.menu-item > a.menu-item-link:hover,  .mk-transparent-header .remove-header-bg-true.dark-header-skin:not(.header-sticky-ready) .menu-hover-style-1 .main-navigation-ul li.menu-item:hover > a.menu-item-link,  .mk-transparent-header .remove-header-bg-true.dark-header-skin:not(.header-sticky-ready) .menu-hover-style-1 .main-navigation-ul li.current-menu-item > a.menu-item-link,  .mk-transparent-header .remove-header-bg-true.dark-header-skin:not(.header-sticky-ready) .menu-hover-style-1 .main-navigation-ul li.current-menu-ancestor > a.menu-item-link,  .mk-transparent-header .remove-header-bg-true.dark-header-skin:not(.header-sticky-ready) .menu-hover-style-2 .main-navigation-ul li.menu-item > a.menu-item-link:hover,  .mk-transparent-header .remove-header-bg-true.dark-header-skin:not(.header-sticky-ready) .menu-hover-style-2 .main-navigation-ul li.menu-item:hover > a.menu-item-link,  .mk-transparent-header .remove-header-bg-true.dark-header-skin:not(.header-sticky-ready) .menu-hover-style-2 .main-navigation-ul li.current-menu-item > a.menu-item-link,  .mk-transparent-header .remove-header-bg-true.dark-header-skin:not(.header-sticky-ready) .menu-hover-style-2 .main-navigation-ul li.current-menu-ancestor > a.menu-item-link,  .mk-transparent-header .remove-header-bg-true.dark-header-skin:not(.header-sticky-ready) .mk-vm-menuwrapper li a,  .mk-transparent-header .remove-header-bg-true.dark-header-skin:not(.header-sticky-ready) .mk-vm-menuwrapper li > a:after,   .mk-transparent-header .remove-header-bg-true.dark-header-skin:not(.header-sticky-ready) .mk-vm-menuwrapper li.mk-vm-back:after {    color: #222 !important;  }  .mk-transparent-header .remove-header-bg-true.dark-header-skin:not(.header-sticky-ready) .menu-hover-style-1 .main-navigation-ul > li.dropdownOpen > a.menu-item-link,  .mk-transparent-header .remove-header-bg-true.dark-header-skin:not(.header-sticky-ready) .menu-hover-style-1 .main-navigation-ul > li.active > a.menu-item-link,  .mk-transparent-header .remove-header-bg-true.dark-header-skin:not(.header-sticky-ready) .menu-hover-style-1 .main-navigation-ul > li.open > a.menu-item-link,  .mk-transparent-header .remove-header-bg-true.dark-header-skin:not(.header-sticky-ready) .menu-hover-style-1 .main-navigation-ul > li.menu-item > a:hover,  .mk-transparent-header .remove-header-bg-true.dark-header-skin:not(.header-sticky-ready) .menu-hover-style-1 .main-navigation-ul > li.current-menu-item > a.menu-item-link,  .mk-transparent-header .remove-header-bg-true.dark-header-skin:not(.header-sticky-ready) .menu-hover-style-1 .main-navigation-ul > li.current-menu-ancestor > a.menu-item-link {    border-top-color: #222;  }  .mk-transparent-header .remove-header-bg-true.dark-header-skin:not(.header-sticky-ready) .mk-css-icon-menu div {    background-color: #222 !important;  }  .mk-transparent-header .remove-header-bg-true.dark-header-skin:not(.header-sticky-ready) .menu-hover-style-3 .main-navigation-ul > li.current-menu-item > a.menu-item-link,  .mk-transparent-header .remove-header-bg-true.dark-header-skin:not(.header-sticky-ready) .menu-hover-style-3 .main-navigation-ul > li.current-menu-ancestor > a.menu-item-link,  .mk-transparent-header .remove-header-bg-true.dark-header-skin:not(.header-sticky-ready) .menu-hover-style-3.mk-vm-menuwrapper li.current-menu-item > a,  .mk-transparent-header .remove-header-bg-true.dark-header-skin:not(.header-sticky-ready) .menu-hover-style-3.mk-vm-menuwrapper li.current-menu-ancestor > a {    border: 2px solid #222;    background-color: #222;    color: #fff !important;  }  .mk-transparent-header .remove-header-bg-true.dark-header-skin:not(.header-sticky-ready) .menu-hover-style-3 .main-navigation-ul > li.menu-item > a.menu-item-link:hover,  .mk-transparent-header .remove-header-bg-true.dark-header-skin:not(.header-sticky-ready) .menu-hover-style-3 .main-navigation-ul > li.menu-item:hover > a.menu-item-link,  .mk-transparent-header .remove-header-bg-true.dark-header-skin:not(.header-sticky-ready) .menu-hover-style-3.mk-vm-menuwrapper li > a:hover,  .mk-transparent-header .remove-header-bg-true.dark-header-skin:not(.header-sticky-ready) .menu-hover-style-3.mk-vm-menuwrapper li:hover > a {    border: 2px solid #222;  }  .mk-transparent-header .remove-header-bg-true.dark-header-skin:not(.header-sticky-ready) .menu-hover-style-4 .main-navigation-ul li.menu-item > a.menu-item-link:hover,  .mk-transparent-header .remove-header-bg-true.dark-header-skin:not(.header-sticky-ready) .menu-hover-style-4 .main-navigation-ul li.menu-item:hover > a.menu-item-link,  .mk-transparent-header .remove-header-bg-true.dark-header-skin:not(.header-sticky-ready) .menu-hover-style-4 .main-navigation-ul li.current-menu-item > a.menu-item-link,  .mk-transparent-header .remove-header-bg-true.dark-header-skin:not(.header-sticky-ready) .menu-hover-style-4 .main-navigation-ul li.current-menu-ancestor > a.menu-item-link,  .mk-transparent-header .remove-header-bg-true.dark-header-skin:not(.header-sticky-ready) .menu-hover-style-5 .main-navigation-ul > li.menu-item > a.menu-item-link:after {    background-color: #222;    color: #fff !important;  }}.comment-reply a,.mk-toggle .mk-toggle-title.active-toggle:before,.mk-testimonial-author,.modern-style .mk-testimonial-company,#wp-calendar td#today,.news-full-without-image .news-categories span,.news-half-without-image .news-categories span,.news-fourth-without-image .news-categories span,.mk-read-more,.news-single-social li a,.portfolio-widget-cats,.portfolio-carousel-cats,.blog-showcase-more,.simple-style .mk-employee-item:hover .team-member-position,.mk-readmore,.about-author-name,.mk-portfolio-classic-item .portfolio-categories a,.register-login-links a:hover,.not-found-subtitle,.mk-mini-callout a,.search-loop-meta a,.new-tab-readmore,.mk-news-tab .mk-tabs-tabs li.ui-tabs-active a,.mk-tooltip a,.mk-accordion-single.current .mk-accordion-tab i,.monocolor.pricing-table .pricing-price span,.quantity .plus:hover,.quantity .minus:hover,.mk-woo-tabs .mk-tabs-tabs li.ui-state-active a,.product .add_to_cart_button i,.blog-modern-comment:hover,.blog-modern-share:hover,{color: #22a079;}.mk-tabs .mk-tabs-tabs li.ui-tabs-active a > i,.mk-accordion .mk-accordion-single.current .mk-accordion-tab:before,.mk-tweet-list a,.widget_testimonials .testimonial-slider .testimonial-author,#mk-filter-portfolio li a:hover,#mk-language-navigation ul li a:hover,#mk-language-navigation ul li.current-menu-item > a,.mk-quick-contact-wrapper h4,.divider-go-top:hover i,.widget-sub-navigation ul li a:hover,#mk-footer .widget_posts_lists ul li .post-list-meta time,.mk-footer-tweets .tweet-username,.product-category .item-holder:hover h4,{color: #22a079 !important;}.image-hover-overlay,.newspaper-portfolio,.similar-posts-wrapper .post-thumbnail:hover > .overlay-pattern,.portfolio-logo-section,.post-list-document .post-type-thumb:hover,#cboxTitle,#cboxPrevious,#cboxNext,#cboxClose,.comment-form-button,.mk-dropcaps.fancy-style,.mk-image-overlay,.pinterest-item-overlay,.news-full-with-image .news-categories span,.news-half-with-image .news-categories span,.news-fourth-with-image .news-categories span,.widget-portfolio-overlay,.portfolio-carousel-overlay,.blog-carousel-overlay,.mk-classic-comments span,.mk-similiar-overlay,.mk-skin-button,.mk-flex-caption .flex-desc span,.mk-icon-box .mk-icon-wrapper i:hover,.mk-quick-contact-link:hover,.quick-contact-active.mk-quick-contact-link,.mk-fancy-table th,.ui-slider-handle,.widget_price_filter .ui-slider-range,.shop-skin-btn,#review_form_wrapper input[type=submit],#mk-nav-search-wrapper form .nav-side-search-icon:hover,form.ajax-search-complete i,.blog-modern-btn,.showcase-blog-overlay,.gform_button[type=submit],.button.alt,#respond #submit,.woocommerce .price_slider_amount .button.button,.mk-shopping-cart-box .mk-button.checkout,.widget_shopping_cart .mk-button.checkout,.widget_shopping_cart .mk-button.checkout{background-color: #22a079 !important;}.mk-circle-image .item-holder{-webkit-box-shadow:0 0 0 1px #22a079;-moz-box-shadow:0 0 0 1px #22a079;box-shadow:0 0 0 1px #22a079;}.mk-blockquote.line-style,.bypostauthor .comment-content,.bypostauthor .comment-content:after,.mk-tabs.simple-style .mk-tabs-tabs li.ui-tabs-active a{border-color: #22a079 !important;}.news-full-with-image .news-categories span,.news-half-with-image .news-categories span,.news-fourth-with-image .news-categories span,.mk-flex-caption .flex-desc span{box-shadow: 8px 0 0 #22a079, -8px 0 0 #22a079;}.monocolor.pricing-table .pricing-cols .pricing-col.featured-plan{border:1px solid #22a079 !important;}.mk-skin-button.three-dimension{box-shadow: 0px 3px 0px 0px #1b8061;}.mk-skin-button.three-dimension:active{box-shadow: 0px 1px 0px 0px #1b8061;}.mk-footer-copyright, #mk-footer-navigation li a{color: #8c8e91;}.mk-woocommerce-main-image img:hover, .mk-single-thumbnails img:hover{border:1px solid #22a079 !important;}.product-loading-icon{background-color:rgba(34,160,121,0.6);}.page-id-7523 ol > li {position: relative;padding-left: 60px;padding-top: 8px;padding-bottom: 8px;}.page-id-7523 ol > li > ol >  li {padding-top: 4px ;padding-bottom: 4px;}.page-id-7523 .cl-title {text-transform: uppercase;font-size: 14px;}.page-id-7523 .tc-list OL { counter-reset: item; margin-left: 8px; }.page-id-7523 .tc-list LI { display: block }.page-id-7523 .tc-list LI:before { content: counters(item, \".\") \" \"; counter-increment: item; position: absolute;width: 45px;text-align: right;left: 0;}.page-id-7523 .tc-list .tc-title {text-transform: uppercase;font-size: 14px;}.page-id-7523 .tc-list {text-align: justify;}.quote {line-height: 22px;font-style: normal;color: #3d3d3d;font-size: 20px;}#theme-page h4 {  font-size: 18px;  color: #404040;  font-weight: bold;  text-transform: none;}ul li {  font-size: 16px;}li#menu-item-3099 a.menu-item-link {  border: 1px solid #ffffff;}li#menu-item-6943 a.menu-item-link {  border: 1px solid #ffffff;}.header-style-1 .menu-hover-style-3 .main-navigation-ul > li, .header-style-1 .menu-hover-style-5 .main-navigation-ul > li {  /* padding: 32px 0 5px 0; */ /* height: 25px; */ /* line-height: 25px; */}.widget-sub-navigation ul li.current_page_item a, .widget_nav_menu ul li.current_page_item a, .widget_product_categories ul li.current_page_item a {  background: none !important;  font-weight: 700;}.mk-testimonial.avantgarde-style .mk-testimonial-content {  min-height: 295px;}.email {  width:93%;}.button {  width:99%;  background-color: #22A079;  border-radius: 3px;}#theme-page h5 {  text-transform: none;}.mk-background-stretch {  margin-bottom: 0 !important;  min-height: 100px;  /*padding: 60px 0 90px;*/}#mk-header .mk-classic-nav-bg, #mk-header .mk-header-bg {   border-bottom: none;}.mk-tabs.simple-style .mk-tabs-tabs {   width: 23%;   margin: auto;   text-align: center;}#qLoverlay {   display: none;}.mk-header-bg{background:none;}@media handheld, only screen and (max-width: 1140px)#mk-responsive-nav li ul li .megamenu-title:hover, #mk-responsive-nav li ul li .megamenu-title, #mk-responsive-nav li a, #mk-responsive-nav li ul li a:hover, #mk-responsive-nav .mk-nav-arrow {  color: #22a079 !important;}.single-post #mk-header, .category #mk-header {background-color: #22a079;}.category #mk-header .mk-header-padding-wrapper {height: 10px;}.category #mk-header .mk-header-padding-wrapper {padding-top: 30px !important;}.category #mk-header .page-introduce-subtitle {font-size: 20px;color: #fff;}.category #mk-header #mk-breadcrumbs, .category .mk-blog-author, .category .blog-modern-social-section {display: none;}.category .mk-blog-modern-item .mk-blog-meta {margin: 0 20px 20px 10px;}.employees-pic {max-width: 300px;margin-left: auto;margin-right: auto;}#proof_funds {font-size: 20px !important;}.cookies-policy-text ol > li {padding-left: 20px;}.new-table-fees tr {border-bottom: 1px solid #ddd;}.new-table-fees tr:first-child {border-top: 1px solid #ddd;}.new-table-fees td {border-left: 1px solid #ddd;border-right: 1px solid #ddd;}.mk-dynamic-styles {display:none}\\n</style>\\n<link rel=\\'stylesheet\\' id=\\'js_composer_front-css\\'  href=\\'https://tether.to/wp-content/plugins/js_composer_theme/assets/css/js_composer.css?ver=4.4.2\\' type=\\'text/css\\' media=\\'all\\' />\\n<script type=\\'text/javascript\\' src=\\'https://tether.to/wp-includes/js/jquery/jquery.js?ver=1.11.1\\'></script>\\n<script type=\\'text/javascript\\' src=\\'https://tether.to/wp-includes/js/jquery/jquery-migrate.min.js?ver=1.2.1\\'></script>\\n<link rel=\"EditURI\" type=\"application/rsd+xml\" title=\"RSD\" href=\"https://tether.to/xmlrpc.php?rsd\" />\\n<link rel=\"wlwmanifest\" type=\"application/wlwmanifest+xml\" href=\"https://tether.to/wp-includes/wlwmanifest.xml\" /> \\n<meta name=\"generator\" content=\"WordPress 4.1.18\" />\\n<link rel=\\'canonical\\' href=\\'https://tether.to/\\' />\\n<link rel=\\'shortlink\\' href=\\'https://tether.to/\\' />\\n<meta name=\"generator\" content=\"Jupiter Child Theme 4.0.9\" />\\n<meta name=\"generator\" content=\"Powered by Visual Composer - drag and drop page builder for WordPress.\"/>\\n<!--[if IE 8]><link rel=\"stylesheet\" type=\"text/css\" href=\"https://tether.to/wp-content/plugins/js_composer_theme/assets/css/vc-ie8.css\" media=\"screen\"><![endif]-->    </head>\\r\\n\\r\\n<body class=\"home page page-id-557 page-template-default  wpb-js-composer js-comp-ver-4.4.2 vc_responsive\" data-backText=\"Back\" data-vm-anim=\"1\">\\r\\n\\r\\n\\r\\n\\r\\n<div id=\"mk-boxed-layout\">\\r\\n<div id=\"mk-theme-container\" class=\"mk-transparent-header\" >\\r\\n\\r\\n\\r\\n<header id=\"mk-header\" data-height=\"90\" data-hover-style=\"5\" data-transparent-skin=\"light\" data-header-style=\"1\" data-sticky-height=\"55\" data-sticky-style=\"\" data-sticky-offset=\"header\" class=\"header-style-1 header-align-left header-toolbar-false sticky-style-  mk-background-stretch boxed-header transparent-header light-header-skin remove-header-bg-true\">\\r\\n\\r\\n\\r\\n<div class=\"mk-header-holder\">\\r\\n\\r\\n\\r\\n\\r\\n\\r\\n\\r\\n\\r\\n\\r\\n\\r\\n\\r\\n<div class=\"mk-header-inner\">\\r\\n\\r\\n    <div class=\"mk-header-bg \"></div>\\r\\n\\r\\n\\r\\n\\r\\n    \\r\\n\\r\\n\\r\\n\\r\\n  <div class=\"mk-grid header-grid\">\\r\\n  <div class=\"mk-header-nav-container one-row-style menu-hover-style-5\"><nav id=\"mk-main-navigation\" class=\"main_menu\"><ul id=\"menu-navigation\" class=\"main-navigation-ul\"><li id=\"menu-item-3652\" class=\"menu-item menu-item-type-post_type menu-item-object-page current-menu-item page_item page-item-557 current_page_item no-mega-menu\"><a class=\"menu-item-link\"  href=\"https://tether.to/\">Home</a></li>\\n<li id=\"menu-item-6881\" class=\"menu-item menu-item-type-post_type menu-item-object-page no-mega-menu\"><a class=\"menu-item-link\"  href=\"https://tether.to/why-use-tether/\">Why use Tether</a></li>\\n<li id=\"menu-item-3654\" class=\"menu-item menu-item-type-custom menu-item-object-custom menu-item-has-children no-mega-menu\"><a class=\"menu-item-link\" >Resources</a>\\n<ul style=\"\" class=\"sub-menu \">\\n\\t<li id=\"menu-item-7016\" class=\"menu-item menu-item-type-custom menu-item-object-custom\"><a class=\"menu-item-link\"  href=\"https://tether.to/wp-content/uploads/2016/06/TetherWhitePaper.pdf\">Whitepaper</a></li>\\n\\t<li id=\"menu-item-7316\" class=\"menu-item menu-item-type-custom menu-item-object-custom\"><a class=\"menu-item-link\"  href=\"https://wallet.tether.to/transparency\">Transparency</a></li>\\n\\t<li id=\"menu-item-7798\" class=\"menu-item menu-item-type-custom menu-item-object-custom\"><a class=\"menu-item-link\"  href=\"https://wallet.tether.to/richlist\">Rich List</a></li>\\n\\t<li id=\"menu-item-7564\" class=\"menu-item menu-item-type-post_type menu-item-object-page\"><a class=\"menu-item-link\"  href=\"https://tether.to/legal/\">Legal</a></li>\\n\\t<li id=\"menu-item-6660\" class=\"menu-item menu-item-type-post_type menu-item-object-page\"><a class=\"menu-item-link\"  href=\"https://tether.to/fees/\">Fees</a></li>\\n</ul>\\n</li>\\n<li id=\"menu-item-3099\" class=\"menu-item menu-item-type-custom menu-item-object-custom no-mega-menu\"><a class=\"menu-item-link\"  href=\"https://app.tether.to/login\">Log In</a></li>\\n</ul></nav></div>\\r\\n\\r\\n\\r\\n<div class=\" mk-nav-responsive-link\">\\r\\n            <div class=\"mk-css-icon-menu\">\\r\\n              <div class=\"mk-css-icon-menu-line-1\"></div>\\r\\n              <div class=\"mk-css-icon-menu-line-2\"></div>\\r\\n              <div class=\"mk-css-icon-menu-line-3\"></div>\\r\\n            </div>\\r\\n          </div>  \\r\\n  \\r\\n  \\t\\t<div class=\"header-logo  logo-has-sticky\">\\n\\t\\t    <a href=\"https://tether.to/\" title=\"Tether\">\\n\\n\\t\\t\\t\\t<img class=\"mk-desktop-logo dark-logo\" alt=\"Tether\" src=\"https://tether.to/wp-content/uploads/2018/09/TetherLogo_white_diamond.png\" />\\n\\n\\n\\t\\t\\t\\t<img class=\"mk-desktop-logo light-logo\" alt=\"Tether\" src=\"https://tether.to/wp-content/uploads/2018/09/TetherLogo_white_diamond.png\" />\\n\\n\\n\\t\\t\\t\\t<img class=\"mk-sticky-logo\" alt=\"Tether\" src=\"https://tether.to/wp-content/uploads/2018/09/TetherLogo_white_diamond.png\" />\\n</a>\\n\\t\\t</div>\\n\\n  \\r\\n  <div class=\"clearboth\"></div>\\r\\n\\r\\n\\r\\n\\r\\n\\r\\n  \\r\\n\\r\\n\\r\\n</div>\\r\\n  <div class=\"mk-header-right\">\\r\\n  \\r\\n  \\r\\n  </div>\\r\\n\\r\\n\\r\\n\\r\\n</div>\\r\\n\\r\\n\\r\\n</div>\\r\\n\\r\\n  <div class=\"clearboth\"></div>\\r\\n\\r\\n\\r\\n\\r\\n\\r\\n\\r\\n<div class=\"mk-header-padding-wrapper\"></div>\\r\\n\\r\\n\\r\\n<div class=\"clearboth\"></div>\\r\\n\\r\\n<div class=\"mk-zindex-fix\">    \\r\\n\\r\\n</div>\\r\\n\\r\\n<div class=\"clearboth\"></div>\\r\\n\\r\\n\\r\\n</header>\\r\\n<div id=\"theme-page\">\\n\\t<div class=\"mk-main-wrapper-holder\">\\n\\t\\t<div id=\"mk-page-id-557\" class=\"theme-page-wrapper mk-main-wrapper full-layout no-padding mk-grid vc_row-fluid\">\\n\\t\\t\\t<div class=\"theme-content no-padding\" itemprop=\"mainContentOfPage\">\\n\\t\\t\\t\\t\\t\\t\\t\\t\\t\\t<div class=\"clearboth\"></div></div></div></div><div id=\"mk-page-section-5c2a0c594993f\" data-intro-effect=\"false\" class=\"full-width-5c2a0c594993f mk-background-stretch  full-height-false mk-page-section self-hosted mk-blur-parent mk-shortcode  \" ><div class=\"mk-video-color-mask\"></div><div class=\"background-clipper\"><div id=\"background-layer--5c2a0c594993f\" class=\"background-layer mk-background-stretch  clipper-true parallax-false\" data-speedFactor=\"0.3\"></div></div><div class=\"mk-grid vc_row-fluid page-section-content\"><div class=\"mk-padding-wrapper\">\\n\\t<div style=\"\" class=\"vc_col-sm-12 wpb_column column_container \">\\n\\t\\t\\t<div class=\"wpb_row vc_row  vc_row-fluid  mk-fullwidth-false  attched-false vc_row-fluid\">\\n\\t<div style=\"\" class=\"vc_col-sm-6 wpb_column column_container \">\\n\\t\\t\\t<div class=\"clearboth\"></div><div class=\"mk-shortcode mk-padding-shortcode\" style=\"height:60px\"></div><div class=\"clearboth\"></div><h1 style=\"font-size: 50px;text-align:left;color: #ffffff;font-style:normal;font-weight:300;padding-top:90px;padding-bottom:0px; letter-spacing:1px;\" id=\"fancy-title-5c2a0c595160e\" class=\"mk-shortcode mk-fancy-title fancy-title-align-left mk-force-responsive simple-style \"><span style=\"\"><span style=\"color: #ffffff;\"><br />\\nDigital money<br />\\nfor a digital age</span></span></h1><div class=\"clearboth\"></div><h3 style=\"font-size: 28px;text-align:left;color: #ffffff;font-style:inhert;font-weight:300;padding-top:0px;padding-bottom:0px; text-transform:none;letter-spacing:2px;\" id=\"fancy-title-5c2a0c59517a9\" class=\"mk-shortcode mk-fancy-title fancy-title-align-left simple-style \"><span style=\"\"><span style=\"color: #ffffff;\">Global, fast, and secure</span></span></h3><div class=\"clearboth\"></div><div class=\"clearboth\"></div><div class=\"mk-shortcode mk-padding-shortcode\" style=\"height:15px\"></div><div class=\"clearboth\"></div>\\n\\t</div>\\n\\t<div style=\"\" class=\"vc_col-sm-6 wpb_column column_container \">\\n\\t\\t\\t\\n\\t</div></div>\\n\\t</div></div><div class=\"clearboth\"></div></div><div class=\"clearboth\"></div></div><div class=\"mk-main-wrapper-holder\"><div class=\"theme-page-wrapper no-padding full-layout mk-grid vc_row-fluid row-fluid\"><div class=\"theme-content no-padding\"><div id=\"ajax-5c2a0c594993f\" class=\"mk-dynamic-styles\"><!--  .full-width-5c2a0c594993f { min-height:100px; padding:60px 0 90px; margin-bottom:4px; } #background-layer--5c2a0c594993f { background-image:url(https://tether.to/wp-content/uploads/2014/07/TetherHero.jpg); background-position:center center; background-repeat:no-repeat; position: fixed;; } --></div><div class=\"clearboth\"></div></div></div></div><div id=\"mk-page-section-5c2a0c5951ba6\" data-intro-effect=\"false\" class=\"full-width-5c2a0c5951ba6  full-height-false mk-page-section self-hosted mk-blur-parent mk-shortcode  \" ><div class=\"mk-video-color-mask\"></div><div class=\"background-clipper\"></div><div class=\"mk-grid vc_row-fluid page-section-content\"><div class=\"mk-padding-wrapper\">\\n\\t<div style=\"\" class=\"vc_col-sm-12 wpb_column column_container \">\\n\\t\\t\\t<h2 style=\"font-size: 16px;text-align:center;color: #393836;font-style:inhert;font-weight:300;padding-top:8px;padding-bottom:10px; letter-spacing:0px;\" id=\"fancy-title-5c2a0c595205d\" class=\"mk-shortcode mk-fancy-title fancy-title-align-center simple-style \"><span style=\"\">\\n<h3 style=\"font-size: 26px;\"><strong>News</strong></h3>\\n<div style=\"font-size: 22px; font-weight: 400;\">\\n<div style=\"margin-top: 10px;\">Tether Banking Relationship Announced\\xa0| \\xa0<a href=\"https://tether.to/tether-banking-relationship-announced/\" target=\"_blank\">Read More</a></div>\\n<div style=\"margin-top: 10px;\">Tether reopens account verification and direct redemption\\xa0| \\xa0<a href=\"https://tether.to/tether-reopens-account-verification-and-direct-redemption-of-fiat-from-its-platform/\" target=\"_blank\">Read More</a></div>\\n</div>\\n</span></h2><div class=\"clearboth\"></div>\\n\\t</div></div><div class=\"clearboth\"></div></div><div class=\"clearboth\"></div></div><div class=\"mk-main-wrapper-holder\"><div class=\"theme-page-wrapper no-padding full-layout mk-grid vc_row-fluid row-fluid\"><div class=\"theme-content no-padding\"><div id=\"ajax-5c2a0c5951ba6\" class=\"mk-dynamic-styles\"><!--  .full-width-5c2a0c5951ba6 { min-height:50px; padding:20px 0 0px; margin-bottom:0px; background-color:#f4f4f4; } #background-layer--5c2a0c5951ba6 { background-position:center top; background-repeat:no-repeat; position: fixed;; } .full-width-5c2a0c5951ba6 .mk-fancy-title.pattern-style span, .full-width-5c2a0c5951ba6 .mk-blog-view-all { background-color: #f4f4f4 !important; }--></div><div class=\"clearboth\"></div></div></div></div><div id=\"mk-page-section-5c2a0c59522fd\" data-intro-effect=\"false\" class=\"full-width-5c2a0c59522fd  full-height-false mk-page-section self-hosted mk-blur-parent mk-shortcode  \" ><div class=\"mk-video-color-mask\"></div><div class=\"background-clipper\"></div><div class=\"mk-grid vc_row-fluid page-section-content\"><div class=\"mk-padding-wrapper\">\\n\\t<div style=\"\" class=\"vc_col-sm-12 wpb_column column_container \">\\n\\t\\t\\t<h1 style=\"font-size: 42px;text-align:center;color: #168363;font-style:inhert;font-weight:300;padding-top:0px;padding-bottom:0px; text-transform:none;letter-spacing:1px;\" id=\"fancy-title-5c2a0c595276e\" class=\"mk-shortcode mk-fancy-title fancy-title-align-center mk-force-responsive simple-style \"><span style=\"\">\\n<p class=\"p1\">Transparency update</p>\\n</span></h1><div class=\"clearboth\"></div><div class=\"mk-button-align center\"><a href=\"https://tether.to/wp-content/uploads/2018/06/FSS1JUN18-Account-Snapshot-Statement-final-15JUN18.pdf\" target=\"_self\" id=\"proof_funds\" class=\"mk-button dark button-5c2a0c595295f light-color  flat-dimension large rounded   \"><span>Proof of funds</span></a></div>\\n\\n<div id=\"ajax-5c2a0c595295f\" class=\"mk-dynamic-styles\"><!--  .button-5c2a0c595295f { margin-bottom: 20px; margin-top: 20px; min-width: 340px !important; } .button-5c2a0c595295f { background-color:#22a079; } .mk-button.button-5c2a0c595295f.flat-dimension:hover { background-color:#000000 !important; } --></div>\\n\\t</div></div><div class=\"clearboth\"></div></div><div class=\"clearboth\"></div></div><div class=\"mk-main-wrapper-holder\"><div class=\"theme-page-wrapper no-padding full-layout mk-grid vc_row-fluid row-fluid\"><div class=\"theme-content no-padding\"><div id=\"ajax-5c2a0c59522fd\" class=\"mk-dynamic-styles\"><!--  .full-width-5c2a0c59522fd { min-height:50px; padding:30px 0 15px; margin-bottom:0px; background-color:#ffffff; border:1px solid #f4f4f4;border-left:none;border-right:none; } #background-layer--5c2a0c59522fd { background-position:center top; background-repeat:no-repeat; position: fixed;; } .full-width-5c2a0c59522fd .mk-fancy-title.pattern-style span, .full-width-5c2a0c59522fd .mk-blog-view-all { background-color: #ffffff !important; }--></div><div class=\"clearboth\"></div></div></div></div><div id=\"mk-page-section-5c2a0c5952b8b\" data-intro-effect=\"false\" class=\"full-width-5c2a0c5952b8b  full-height-false mk-page-section self-hosted mk-blur-parent mk-shortcode  \" ><div class=\"mk-video-color-mask\"></div><div class=\"background-clipper\"></div><div class=\"mk-grid vc_row-fluid page-section-content\"><div class=\"mk-padding-wrapper\">\\n\\t<div style=\"\" class=\"vc_col-sm-12 wpb_column column_container \">\\n\\t\\t\\t<h1 style=\"font-size: 42px;text-align:center;color: #168363;font-style:inhert;font-weight:300;padding-top:0px;padding-bottom:0px; text-transform:none;letter-spacing:1px;\" id=\"fancy-title-5c2a0c595303b\" class=\"mk-shortcode mk-fancy-title fancy-title-align-center mk-force-responsive simple-style \"><span style=\"\">\\n<p class=\"p1\">We’ve combined the best of both worlds</p>\\n</span></h1><div class=\"clearboth\"></div><div class=\"wpb_row vc_row  vc_row-fluid  mk-fullwidth-false  attched-false vc_row-fluid\">\\n\\t<div style=\"\" class=\"vc_col-sm-12 wpb_column column_container \">\\n\\t\\t\\t<h3 style=\"font-size: 21px;text-align:center;color: #393836;font-style:inhert;font-weight:300;padding-top:10px;padding-bottom:40px; text-transform:none;letter-spacing:0px;\" id=\"fancy-title-5c2a0c595360b\" class=\"mk-shortcode mk-fancy-title fancy-title-align-center simple-style \"><span style=\"\">\\n<p class=\"p1\">Get the joint benefits of open blockchain technology and traditional currency</p>\\n</span></h3><div class=\"clearboth\"></div>\\n\\t</div></div><div class=\"wpb_row vc_row  vc_row-fluid  mk-fullwidth-false  attched-false vc_row-fluid\">\\n\\t<div style=\"\" class=\"vc_col-sm-4 wpb_column column_container \">\\n\\t\\t\\t<div id=\"box-icon-5c2a0c5953c12\" style=\"margin-bottom:40px;\" class=\"   simple_ultimate-style mk-box-icon\"><div class=\"left-side \"><i style=\"color:#22a079;\" class=\"mk-li-lock medium mk-main-ico\"></i><div class=\"box-detail-wrapper medium-size\"><h4 style=\"font-size:22px;font-weight:300;\">Stable Currency</h4><p>Tether converts cash into digital currency, to anchor or tether\\xa0the value\\xa0to the price of national currencies like the US dollar, the Euro, and the Yen.</p>\\n</div><div class=\"clearboth\"></div></div></div><div id=\"ajax-5c2a0c5953c12\" class=\"mk-dynamic-styles\"><!-- --></div>\\n\\t</div>\\n\\t<div style=\"\" class=\"vc_col-sm-4 wpb_column column_container \">\\n\\t\\t\\t<div id=\"box-icon-5c2a0c5954016\" style=\"margin-bottom:60px;\" class=\"   simple_ultimate-style mk-box-icon\"><div class=\"left-side \"><i style=\"color:#22a079;\" class=\"mk-icon-money medium mk-main-ico\"></i><div class=\"box-detail-wrapper medium-size\"><h4 style=\"font-size:22px;font-weight:300;\">100% Backed</h4><p>Every tether is always backed 1-to-1, by traditional\\xa0currency held in our reserves. So 1 USD₮ is always equivalent to 1 USD.</p>\\n</div><div class=\"clearboth\"></div></div></div><div id=\"ajax-5c2a0c5954016\" class=\"mk-dynamic-styles\"><!-- --></div>\\n\\t</div>\\n\\t<div style=\"\" class=\"vc_col-sm-4 wpb_column column_container \">\\n\\t\\t\\t<div id=\"box-icon-5c2a0c5954407\" style=\"margin-bottom:60px;\" class=\"   simple_ultimate-style mk-box-icon\"><div class=\"left-side \"><i style=\"color:#22a079;\" class=\"mk-li-loupe medium mk-main-ico\"></i><div class=\"box-detail-wrapper medium-size\"><h4 style=\"font-size:22px;font-weight:300;\">Transparent</h4><p>Our reserve holdings are published daily. All tethers in circulation always match our reserves.</p>\\n</div><div class=\"clearboth\"></div></div></div><div id=\"ajax-5c2a0c5954407\" class=\"mk-dynamic-styles\"><!-- --></div>\\n\\t</div></div><div class=\"wpb_row vc_row  vc_row-fluid  mk-fullwidth-false  attched-false vc_row-fluid\">\\n\\t<div style=\"\" class=\"vc_col-sm-4 wpb_column column_container \">\\n\\t\\t\\t<div id=\"box-icon-5c2a0c59549ce\" style=\"margin-bottom:40px;\" class=\"   simple_ultimate-style mk-box-icon\"><div class=\"left-side \"><i style=\"color:#22a079;\" class=\"mk-icon-chain medium mk-main-ico\"></i><div class=\"box-detail-wrapper medium-size\"><h4 style=\"font-size:22px;font-weight:300;\">Blockchain Technology</h4><p>The Tether platform is built on top of open blockchain technologies, leveraging the security and transparency that they provide.</p>\\n</div><div class=\"clearboth\"></div></div></div><div id=\"ajax-5c2a0c59549ce\" class=\"mk-dynamic-styles\"><!-- --></div>\\n\\t</div>\\n\\t<div style=\"\" class=\"vc_col-sm-4 wpb_column column_container \">\\n\\t\\t\\t<div id=\"box-icon-5c2a0c5954dc0\" style=\"margin-bottom:40px;\" class=\"   simple_ultimate-style mk-box-icon\"><div class=\"left-side \"><i style=\"color:#22a079;\" class=\"mk-moon-puzzle-4 medium mk-main-ico\"></i><div class=\"box-detail-wrapper medium-size\"><h4 style=\"font-size:22px;font-weight:300;\">Widespread Integration</h4><p>Tether is the most widely integrated digital-to- fiat currency today. Buy, sell, and use tethers at Bitfinex, Shapeshift, GoCoin, and other exchanges.</p>\\n</div><div class=\"clearboth\"></div></div></div><div id=\"ajax-5c2a0c5954dc0\" class=\"mk-dynamic-styles\"><!-- --></div>\\n\\t</div>\\n\\t<div style=\"\" class=\"vc_col-sm-4 wpb_column column_container \">\\n\\t\\t\\t<div id=\"box-icon-5c2a0c59552b2\" style=\"margin-bottom:20px;\" class=\"   simple_ultimate-style mk-box-icon\"><div class=\"left-side \"><i style=\"color:#22a079;\" class=\"mk-li-shield medium mk-main-ico\"></i><div class=\"box-detail-wrapper medium-size\"><h4 style=\"font-size:22px;font-weight:300;\">Secure</h4><p>Tether’s blockchain-enabled technology delivers world-class security while meeting\\xa0international compliance standards and regulations.</p>\\n</div><div class=\"clearboth\"></div></div></div><div id=\"ajax-5c2a0c59552b2\" class=\"mk-dynamic-styles\"><!-- --></div>\\n\\t</div></div>\\n\\t</div></div><div class=\"clearboth\"></div></div><div class=\"clearboth\"></div></div><div class=\"mk-main-wrapper-holder\"><div class=\"theme-page-wrapper no-padding full-layout mk-grid vc_row-fluid row-fluid\"><div class=\"theme-content no-padding\"><div id=\"ajax-5c2a0c5952b8b\" class=\"mk-dynamic-styles\"><!--  .full-width-5c2a0c5952b8b { min-height:100px; padding:80px 0 80px; margin-bottom:10px; } #background-layer--5c2a0c5952b8b { background-position:left top; background-repeat:repeat; ; } --></div><div class=\"clearboth\"></div></div></div></div><div id=\"mk-page-section-5c2a0c5955603\" data-intro-effect=\"false\" class=\"full-width-5c2a0c5955603  full-height-false mk-page-section self-hosted mk-blur-parent mk-shortcode  \" ><div class=\"mk-video-color-mask\"></div><div class=\"background-clipper\"></div><div class=\"mk-grid vc_row-fluid page-section-content\"><div class=\"mk-padding-wrapper\">\\n\\t<div style=\"\" class=\"vc_col-sm-12 wpb_column column_container \">\\n\\t\\t\\t<div class=\"wpb_row vc_row  vc_row-fluid  mk-fullwidth-false  attched-false vc_row-fluid\">\\n\\t<div style=\"\" class=\"vc_col-sm-12 wpb_column column_container \">\\n\\t\\t\\t<h1 style=\"font-size: 42px;text-align:center;color: #393836;font-style:inhert;font-weight:300;padding-top:0px;padding-bottom:0px; text-transform:none;letter-spacing:1px;\" id=\"fancy-title-5c2a0c5955ed1\" class=\"mk-shortcode mk-fancy-title fancy-title-align-center mk-force-responsive simple-style \"><span style=\"\">Money built for the internet</span></h1><div class=\"clearboth\"></div><h3 style=\"font-size: 21px;text-align:center;color: #393836;font-style:inhert;font-weight:300;padding-top:10px;padding-bottom:40px; text-transform:none;letter-spacing:0px;\" id=\"fancy-title-5c2a0c5956066\" class=\"mk-shortcode mk-fancy-title fancy-title-align-center simple-style \"><span style=\"\">Whatever you can do with digital currencies, you can now do with digital cash.</span></h3><div class=\"clearboth\"></div>\\n\\t</div></div><div class=\"wpb_row vc_row  vc_row-fluid  mk-fullwidth-false  attched-false vc_row-fluid\">\\n\\t<div style=\"\" class=\"vc_col-sm-4 wpb_column column_container \">\\n\\t\\t\\t<div id=\"mk-icon-box-5c2a0c5956655\" class=\"mk-box-icon-2 box-align-center \">    <div class=\"mk-box-icon-2-image\" style=\"width:64px;\"><img src=\"https://tether.to/wp-content/uploads/2014/07/Icon_blockchain.svg\" alt=\"\" /></div>    <h3 class=\"mk-box-icon-2-title\" style=\"font-weight:300; font-size:22px; color:; padding:20px 0 30px 0;\">Blockchain Companies</h3>    <div class=\"mk-box-icon-2-content\"></div></div><div id=\"list-style-5c2a0c5956804\" class=\"mk-list-styles mk-shortcode mk-align-none \" style=\"margin-bottom:30px\"><ul>\\n<li>Offer your services in a variety of digital currencies</li>\\n<li>Price goods and services in a currency your customers are familiar with</li>\\n<li>Reduce operating costs and times by bypassing financial institutions</li>\\n</ul>\\n</div><div id=\"ajax-5c2a0c5956804\" class=\"mk-dynamic-styles\"><!--  #list-style-5c2a0c5956804 ul li:before { font-family:Icomoon; content: \"\\\\e26c\"; color:#22a079 }--></div>\\n\\t</div>\\n\\t<div style=\"\" class=\"vc_col-sm-4 wpb_column column_container \">\\n\\t\\t\\t<div id=\"mk-icon-box-5c2a0c5956c29\" class=\"mk-box-icon-2 box-align-center \">    <div class=\"mk-box-icon-2-image\" style=\"width:64px;\"><img src=\"https://tether.to/wp-content/uploads/2014/07/Icon_Exchanges.svg\" alt=\"\" /></div>    <h3 class=\"mk-box-icon-2-title\" style=\"font-weight:300; font-size:22px; color:; padding:20px 0 30px 0;\">Exchanges</h3>    <div class=\"mk-box-icon-2-content\"></div></div><div id=\"list-style-5c2a0c5956da3\" class=\"mk-list-styles mk-shortcode mk-align-none \" style=\"margin-bottom:px\"><ul>\\n<li>Use tether as an alternative to traditional currency deposit and withdrawal methods</li>\\n<li>Secure and manage customer assets purely through crypto-processes, including multi-sig</li>\\n<li>Settle fiat balances between exchanges much easier and in real-time</li>\\n</ul>\\n</div><div id=\"ajax-5c2a0c5956da3\" class=\"mk-dynamic-styles\"><!--  #list-style-5c2a0c5956da3 ul li:before { font-family:Icomoon; content: \"\\\\e26c\"; color:#22a079 }--></div>\\n\\t</div>\\n\\t<div style=\"\" class=\"vc_col-sm-4 wpb_column column_container \">\\n\\t\\t\\t<div id=\"mk-icon-box-5c2a0c59571ce\" class=\"mk-box-icon-2 box-align-center \">    <div class=\"mk-box-icon-2-image\" style=\"width:64px;\"><img src=\"https://tether.to/wp-content/uploads/2014/07/Icon_Individuals.svg\" alt=\"\" /></div>    <h3 class=\"mk-box-icon-2-title\" style=\"font-weight:300; font-size:22px; color:; padding:20px 0 30px 0;\">Individuals/Traders</h3>    <div class=\"mk-box-icon-2-content\"></div></div><div id=\"list-style-5c2a0c5957348\" class=\"mk-list-styles mk-shortcode mk-align-none \" style=\"margin-bottom:30px\"><ul>\\n<li>Seamlessly move currency between exchanges and wallets</li>\\n<li>Enhance your cross-exchange and currency arbitrage strategy</li>\\n<li>Be the custodian of your own funds and eliminate exchange custodial risk</li>\\n</ul>\\n</div><div id=\"ajax-5c2a0c5957348\" class=\"mk-dynamic-styles\"><!--  #list-style-5c2a0c5957348 ul li:before { font-family:Icomoon; content: \"\\\\e26c\"; color:#22a079 }--></div>\\n\\t</div></div>\\n\\t</div></div><div class=\"clearboth\"></div></div><div class=\"clearboth\"></div></div><div class=\"mk-main-wrapper-holder\"><div class=\"theme-page-wrapper no-padding full-layout mk-grid vc_row-fluid row-fluid\"><div class=\"theme-content no-padding\"><div id=\"ajax-5c2a0c5955603\" class=\"mk-dynamic-styles\"><!--  .full-width-5c2a0c5955603 { min-height:100px; padding:80px 0 80px; margin-bottom:0px; background-color:#f2f2f2; } #background-layer--5c2a0c5955603 { background-position:left top; background-repeat:repeat; ; } .full-width-5c2a0c5955603 .mk-fancy-title.pattern-style span, .full-width-5c2a0c5955603 .mk-blog-view-all { background-color: #f2f2f2 !important; }--></div><div class=\"clearboth\"></div></div></div></div><div id=\"mk-page-section-5c2a0c595768e\" data-intro-effect=\"false\" class=\"full-width-5c2a0c595768e  full-height-false mk-page-section self-hosted mk-blur-parent mk-shortcode  \" ><div class=\"mk-video-color-mask\"></div><div class=\"background-clipper\"></div><div class=\"mk-grid vc_row-fluid page-section-content\"><div class=\"mk-padding-wrapper\">\\n\\t<div style=\"\" class=\"vc_col-sm-12 wpb_column column_container \">\\n\\t\\t\\t<div class=\"wpb_row vc_row  vc_row-fluid  mk-fullwidth-false  attched-false vc_row-fluid\">\\n\\t<div style=\"\" class=\"vc_col-sm-12 wpb_column column_container \">\\n\\t\\t\\t<h1 style=\"font-size: 42px;text-align:center;color: #168363;font-style:inhert;font-weight:300;padding-top:0px;padding-bottom:50px; letter-spacing:1px;\" id=\"fancy-title-5c2a0c5957ed4\" class=\"mk-shortcode mk-fancy-title fancy-title-align-center mk-force-responsive simple-style \"><span style=\"\">As\\xa0seen in</span></h1><div class=\"clearboth\"></div>\\n\\t</div></div><div class=\"wpb_row vc_row  vc_row-fluid  mk-fullwidth-false  attched-false vc_row-fluid\">\\n\\t<div style=\"\" class=\"vc_col-sm-4 wpb_column column_container \">\\n\\t\\t\\t<div class=\"mk-image-shortcode mk-shortcode   align-center simple-frame inside-image \" style=\"max-width: 800px; margin-bottom:10px\"><div class=\"mk-image-inner\"><a href=\"http://blogs.wsj.com/moneybeat/2014/07/08/dollar-backed-digital-currency-aims-to-fix-bitcoins-volatility-dilemma/\" target=\"_blank\" class=\"mk-image-shortcode-link\"><img class=\"lightbox-false\" alt=\"\" title=\"\" src=\"https://tether.to/wp-content/uploads/2014/07/Media_WSJ.png\" /></a></div><div class=\"clearboth\"></div></div><h2 style=\"font-size: 18px;text-align:center;color: #5e5957;font-style:italic;font-weight:inherit;padding-top:30px;padding-bottom:18px; letter-spacing:0px;\" id=\"fancy-title-5c2a0c595ffe4\" class=\"mk-shortcode mk-fancy-title fancy-title-align-center simple-style \"><span style=\"\"><em>“Tether opens up decentralized, peer-to-peer networks to a variety of commercial uses.”</em></span></h2><div class=\"clearboth\"></div>\\n\\t</div>\\n\\t<div style=\"\" class=\"vc_col-sm-4 wpb_column column_container \">\\n\\t\\t\\t<div class=\"mk-image-shortcode mk-shortcode   align-center simple-frame inside-image \" style=\"max-width: 800px; margin-bottom:10px\"><div class=\"mk-image-inner\"><a href=\"http://www.coindesk.com/realcoin-relaunches-tether-avoid-altcoin-association/\" target=\"_blank\" class=\"mk-image-shortcode-link\"><img class=\"lightbox-false\" alt=\"\" title=\"\" src=\"https://tether.to/wp-content/uploads/2014/07/Media_Coindesk.png\" /></a></div><div class=\"clearboth\"></div></div><h2 style=\"font-size: 18px;text-align:center;color: #5e5957;font-style:italic;font-weight:inherit;padding-top:30px;padding-bottom:18px; letter-spacing:0px;\" id=\"fancy-title-5c2a0c5969ed0\" class=\"mk-shortcode mk-fancy-title fancy-title-align-center simple-style \"><span style=\"\"><em>&#8220;Tether is the latest and perhaps most high-profile project to attempt to use the blockchain&#8217;s functionality as a ledger to move digital tokens that represent real currency.&#8221;</em></span></h2><div class=\"clearboth\"></div>\\n\\t</div>\\n\\t<div style=\"\" class=\"vc_col-sm-4 wpb_column column_container \">\\n\\t\\t\\t<div class=\"mk-image-shortcode mk-shortcode   align-center simple-frame inside-image \" style=\"max-width: 800px; margin-bottom:10px\"><div class=\"mk-image-inner\"><a href=\"http://cointelegraph.com/news/114038/shapeshift-is-now-the-fastest-way-to-buy-or-sell-tether-usd\" target=\"_blank\" class=\"mk-image-shortcode-link\"><img class=\"lightbox-false\" alt=\"\" title=\"\" src=\"https://tether.to/wp-content/uploads/2014/07/Media_CT.png\" /></a></div><div class=\"clearboth\"></div></div><h2 style=\"font-size: 18px;text-align:center;color: #5e5957;font-style:italic;font-weight:inherit;padding-top:30px;padding-bottom:18px; letter-spacing:0px;\" id=\"fancy-title-5c2a0c5974d3c\" class=\"mk-shortcode mk-fancy-title fancy-title-align-center simple-style \"><span style=\"\"><em>&#8220;Tether seeks to bring the stability and everyday utility of fiat currencies and revitalize them with a cryptocurrency infusion.&#8221;</em></span></h2><div class=\"clearboth\"></div>\\n\\t</div></div>\\n\\t</div></div><div class=\"clearboth\"></div></div><div class=\"clearboth\"></div></div><div class=\"mk-main-wrapper-holder\"><div class=\"theme-page-wrapper no-padding full-layout mk-grid vc_row-fluid row-fluid\"><div class=\"theme-content no-padding\"><div id=\"ajax-5c2a0c595768e\" class=\"mk-dynamic-styles\"><!--  .full-width-5c2a0c595768e { min-height:100px; padding:80px 0 80px; margin-bottom:0px; } #background-layer--5c2a0c595768e { background-position:left top; background-repeat:repeat; ; } --></div><div class=\"clearboth\"></div></div></div></div><div id=\"mk-page-section-5c2a0c5975103\" data-intro-effect=\"false\" class=\"full-width-5c2a0c5975103  full-height-false mk-page-section self-hosted mk-blur-parent mk-shortcode  \" ><div class=\"mk-video-color-mask\"></div><div class=\"background-clipper\"></div><div class=\"mk-grid vc_row-fluid page-section-content\"><div class=\"mk-padding-wrapper\">\\n\\t<div style=\"\" class=\"vc_col-sm-12 wpb_column column_container \">\\n\\t\\t\\t<h1 style=\"font-size: 42px;text-align:center;color: #3d3d3d;font-style:inhert;font-weight:300;padding-top:0px;padding-bottom:15px; text-transform:none;letter-spacing:0px;\" id=\"fancy-title-5c2a0c59755ae\" class=\"mk-shortcode mk-fancy-title fancy-title-align-center mk-force-responsive simple-style \"><span style=\"\">Join the modern movement of money</span></h1><div class=\"clearboth\"></div>\\n\\t</div></div><div class=\"clearboth\"></div></div><div class=\"clearboth\"></div></div><div class=\"mk-main-wrapper-holder\"><div class=\"theme-page-wrapper no-padding full-layout mk-grid vc_row-fluid row-fluid\"><div class=\"theme-content no-padding\"><div id=\"ajax-5c2a0c5975103\" class=\"mk-dynamic-styles\"><!--  .full-width-5c2a0c5975103 { min-height:100px; padding:80px 0 60px; margin-bottom:0px; background-color:#f2f2f2; } #background-layer--5c2a0c5975103 { background-position:left top; background-repeat:repeat; ; } .full-width-5c2a0c5975103 .mk-fancy-title.pattern-style span, .full-width-5c2a0c5975103 .mk-blog-view-all { background-color: #f2f2f2 !important; }--></div>\\n\\t\\t\\t\\t\\t\\t<div class=\"clearboth\"></div>\\n\\t\\t\\t\\t\\t\\t\\t\\t\\t\\t\\t\\t\\t</div>\\n\\t\\t\\t\\t\\t\\t\\t<div class=\"clearboth\"></div>\\n\\t\\t</div>\\n\\t\\t<div class=\"clearboth\"></div>\\n\\t</div>\\t\\n</div>\\n<section id=\"mk-footer\" class=\"\">\\r\\n<div class=\"footer-wrapper mk-grid\">\\r\\n<div class=\"mk-padding-wrapper\">\\r\\n<div class=\"mk-col-1-4\"><section id=\"text-12\" class=\"widget widget_text\">\\t\\t\\t<div class=\"textwidget\"><a href=\"https://tether.to/\"><img src=\"/wp-content/uploads/2018/09/TetherLogo_diamond.png\"></a>\\r\\n<br><br>\\r\\n© 2018 Tether. All rights reserved.</div>\\n\\t\\t</section></div>\\r\\n<div class=\"mk-col-1-4\"><section id=\"nav_menu-2\" class=\"widget widget_nav_menu\"><div class=\"widgettitle\">Resources</div><div class=\"menu-footer-1-container\"><ul id=\"menu-footer-1\" class=\"menu\"><li id=\"menu-item-7249\" class=\"menu-item menu-item-type-post_type menu-item-object-page menu-item-7249\"><a href=\"https://tether.to/faqs/\">FAQs</a></li>\\n<li id=\"menu-item-8060\" class=\"menu-item menu-item-type-post_type menu-item-object-page menu-item-8060\"><a href=\"https://tether.to/knowledge-base/\">Knowledge Base</a></li>\\n<li id=\"menu-item-7018\" class=\"menu-item menu-item-type-custom menu-item-object-custom menu-item-7018\"><a href=\"https://tether.to/wp-content/uploads/2016/06/TetherWhitePaper.pdf\">Whitepaper</a></li>\\n<li id=\"menu-item-7317\" class=\"menu-item menu-item-type-custom menu-item-object-custom menu-item-7317\"><a href=\"https://wallet.tether.to/transparency\">Transparency</a></li>\\n<li id=\"menu-item-6661\" class=\"menu-item menu-item-type-post_type menu-item-object-page menu-item-6661\"><a href=\"https://tether.to/fees/\">Fees</a></li>\\n<li id=\"menu-item-7563\" class=\"menu-item menu-item-type-post_type menu-item-object-page menu-item-7563\"><a href=\"https://tether.to/legal/\">Legal</a></li>\\n</ul></div></section></div>\\r\\n<div class=\"mk-col-1-4\"><section id=\"nav_menu-3\" class=\"widget widget_nav_menu\"><div class=\"widgettitle\">About</div><div class=\"menu-footer-2-container\"><ul id=\"menu-footer-2\" class=\"menu\"><li id=\"menu-item-6880\" class=\"menu-item menu-item-type-post_type menu-item-object-page menu-item-6880\"><a href=\"https://tether.to/why-use-tether/\">Why use Tether</a></li>\\n<li id=\"menu-item-6623\" class=\"menu-item menu-item-type-post_type menu-item-object-page menu-item-6623\"><a href=\"https://tether.to/tether-for-individuals/\">Tether for Individuals</a></li>\\n<li id=\"menu-item-6295\" class=\"menu-item menu-item-type-post_type menu-item-object-page menu-item-6295\"><a href=\"https://tether.to/press/\">Press</a></li>\\n<li id=\"menu-item-7868\" class=\"menu-item menu-item-type-post_type menu-item-object-page menu-item-7868\"><a href=\"https://tether.to/about-us/\">About us</a></li>\\n<li id=\"menu-item-6296\" class=\"menu-item menu-item-type-post_type menu-item-object-page menu-item-6296\"><a href=\"https://tether.to/branding/\">Branding</a></li>\\n<li id=\"menu-item-7730\" class=\"menu-item menu-item-type-taxonomy menu-item-object-category menu-item-7730\"><a href=\"https://tether.to/category/announcements/\">Announcements</a></li>\\n</ul></div></section></div>\\r\\n<div class=\"mk-col-1-4\"><section id=\"nav_menu-4\" class=\"widget widget_nav_menu\"><div class=\"widgettitle\">Connect</div><div class=\"menu-footer-3-container\"><ul id=\"menu-footer-3\" class=\"menu\"><li id=\"menu-item-6297\" class=\"menu-item menu-item-type-post_type menu-item-object-page menu-item-6297\"><a href=\"https://tether.to/contact-us/\">Contact Us</a></li>\\n<li id=\"menu-item-7820\" class=\"menu-item menu-item-type-post_type menu-item-object-page menu-item-7820\"><a href=\"https://tether.to/media-contact/\">Media Contact</a></li>\\n<li id=\"menu-item-6298\" class=\"menu-item menu-item-type-custom menu-item-object-custom menu-item-6298\"><a href=\"https://twitter.com/Tether_to/\">Twitter</a></li>\\n<li id=\"menu-item-6299\" class=\"menu-item menu-item-type-custom menu-item-object-custom menu-item-6299\"><a href=\"https://www.facebook.com/tether.to\">Facebook</a></li>\\n<li id=\"menu-item-6300\" class=\"menu-item menu-item-type-custom menu-item-object-custom menu-item-6300\"><a href=\"https://www.linkedin.com/company/tether\">LinkedIn</a></li>\\n</ul></div></section></div>\\r\\n<div class=\"clearboth\"></div>\\r\\n</div>\\r\\n</div>\\r\\n\\r\\n</section>\\r\\n\\r\\n\\r\\n\\r\\n\\r\\n\\r\\n</div>\\r\\n\\t\\t<script type=\"text/javascript\">\\r\\n\\t\\tjQuery(\\'#link-to-policy\\').click(function () {\\r\\njQuery(\\'#ui-id-2, .mk-go-top.on\\').click();\\r\\n});\\t\\t</script>\\r\\n\\t\\t\\t<script type=\"text/javascript\">\\r\\n\\t\\t  var _gaq = _gaq || [];\\r\\n\\t\\t  _gaq.push([\\'_setAccount\\', \\'UA-57245981-1\\']);\\r\\n\\t\\t  _gaq.push([\\'_trackPageview\\']);\\r\\n\\r\\n\\t\\t  (function() {\\r\\n\\t\\t    var ga = document.createElement(\\'script\\'); ga.type = \\'text/javascript\\'; ga.async = true;\\r\\n\\t\\t    ga.src = (\\'https:\\' == document.location.protocol ? \\'https://ssl\\' : \\'http://www\\') + \\'.google-analytics.com/ga.js\\';\\r\\n\\t\\t    var s = document.getElementsByTagName(\\'script\\')[0]; s.parentNode.insertBefore(ga, s);\\r\\n\\t\\t  })();\\r\\n\\r\\n\\t\\t</script>\\r\\n\\t\\r\\n</div>\\r\\n\\r\\n\\r\\n\\t<a href=\"#\" class=\"mk-go-top\"><i class=\"mk-icon-chevron-up\"></i></a>\\r\\n\\t\\r\\n\\t\\r\\n\\r\\n\\t<script type=\"text/javascript\">\\nsetTimeout(function(){var a=document.createElement(\"script\");\\nvar b=document.getElementsByTagName(\\'script\\')[0];\\na.src=document.location.protocol+\"//script.crazyegg.com/pages/scripts/0032/7519.js\";\\na.async=true;a.type=\"text/javascript\";b.parentNode.insertBefore(a,b)}, 1);\\n</script>\\n<script type=\"text/javascript\">  \\n    php = {\\n        hasAdminbar: false,\\n        json: ([{\"name\":\"page_section\",\"params\":{\"id\":\"mk-page-section-5c2a0c594993f\",\"hasBgLayer\":true,\"bgAttachment\":\"fixed\"}},{\"name\":\"page_section\",\"params\":{\"id\":\"mk-page-section-5c2a0c5951ba6\",\"hasBgLayer\":false,\"bgAttachment\":\"fixed\"}},{\"name\":\"page_section\",\"params\":{\"id\":\"mk-page-section-5c2a0c59522fd\",\"hasBgLayer\":false,\"bgAttachment\":\"fixed\"}},{\"name\":\"page_section\",\"params\":{\"id\":\"mk-page-section-5c2a0c5952b8b\",\"hasBgLayer\":false,\"bgAttachment\":\"scroll\"}},{\"name\":\"page_section\",\"params\":{\"id\":\"mk-page-section-5c2a0c5955603\",\"hasBgLayer\":false,\"bgAttachment\":\"scroll\"}},{\"name\":\"page_section\",\"params\":{\"id\":\"mk-page-section-5c2a0c595768e\",\"hasBgLayer\":false,\"bgAttachment\":\"scroll\"}},{\"name\":\"page_section\",\"params\":{\"id\":\"mk-page-section-5c2a0c5975103\",\"hasBgLayer\":false,\"bgAttachment\":\"scroll\"}}] != null) ? [{\"name\":\"page_section\",\"params\":{\"id\":\"mk-page-section-5c2a0c594993f\",\"hasBgLayer\":true,\"bgAttachment\":\"fixed\"}},{\"name\":\"page_section\",\"params\":{\"id\":\"mk-page-section-5c2a0c5951ba6\",\"hasBgLayer\":false,\"bgAttachment\":\"fixed\"}},{\"name\":\"page_section\",\"params\":{\"id\":\"mk-page-section-5c2a0c59522fd\",\"hasBgLayer\":false,\"bgAttachment\":\"fixed\"}},{\"name\":\"page_section\",\"params\":{\"id\":\"mk-page-section-5c2a0c5952b8b\",\"hasBgLayer\":false,\"bgAttachment\":\"scroll\"}},{\"name\":\"page_section\",\"params\":{\"id\":\"mk-page-section-5c2a0c5955603\",\"hasBgLayer\":false,\"bgAttachment\":\"scroll\"}},{\"name\":\"page_section\",\"params\":{\"id\":\"mk-page-section-5c2a0c595768e\",\"hasBgLayer\":false,\"bgAttachment\":\"scroll\"}},{\"name\":\"page_section\",\"params\":{\"id\":\"mk-page-section-5c2a0c5975103\",\"hasBgLayer\":false,\"bgAttachment\":\"scroll\"}}] : \"\",\\n        styles:  \\'\\',\\n        jsPath: \\'https://tether.to/wp-content/themes/jupiter/js\\'\\n      };\\n      \\n    var styleTag = document.createElement(\"style\"),\\n      head = document.getElementsByTagName(\"head\")[0];\\n\\n    styleTag.type = \"text/css\";\\n    styleTag.innerHTML = php.styles;\\n    head.appendChild(styleTag);\\n    </script><script type=\\'text/javascript\\' src=\\'https://tether.to/wp-includes/js/comment-reply.min.js?ver=4.1.18\\'></script>\\n<script type=\\'text/javascript\\' src=\\'https://tether.to/wp-content/plugins/contact-form-7/includes/js/jquery.form.min.js?ver=3.51.0-2014.06.20\\'></script>\\n<script type=\\'text/javascript\\'>\\n/* <![CDATA[ */\\nvar _wpcf7 = {\"loaderUrl\":\"https:\\\\/\\\\/tether.to\\\\/wp-content\\\\/plugins\\\\/contact-form-7\\\\/images\\\\/ajax-loader.gif\",\"sending\":\"Sending ...\"};\\n/* ]]> */\\n</script>\\n<script type=\\'text/javascript\\' src=\\'https://tether.to/wp-content/plugins/contact-form-7/includes/js/scripts.js?ver=4.1.1\\'></script>\\n<script type=\\'text/javascript\\' src=\\'https://tether.to/wp-content/plugins/wp-retina-2x/js/retina.min.js?ver=1.3.0\\'></script>\\n<script type=\\'text/javascript\\' src=\\'https://tether.to/wp-includes/js/jquery/ui/core.min.js?ver=1.11.2\\'></script>\\n<script type=\\'text/javascript\\' src=\\'https://tether.to/wp-includes/js/jquery/ui/widget.min.js?ver=1.11.2\\'></script>\\n<script type=\\'text/javascript\\' src=\\'https://tether.to/wp-includes/js/jquery/ui/tabs.min.js?ver=1.11.2\\'></script>\\n<script type=\\'text/javascript\\'>\\n/* <![CDATA[ */\\nvar ajax_login_object = {\"ajaxurl\":\"https:\\\\/\\\\/tether.to\\\\/wp-admin\\\\/admin-ajax.php\",\"redirecturl\":\"https:\\\\/\\\\/cms.tether.to:443\\\\/\",\"loadingmessage\":\"Sending user info, please wait...\"};\\n/* ]]> */\\n</script>\\n<script type=\\'text/javascript\\' src=\\'https://tether.to/wp-content/themes/jupiter/js/scripts-vendors.js?ver=4.1.18\\'></script>\\n<script type=\\'text/javascript\\' src=\\'https://tether.to/wp-content/themes/jupiter/js/smoothscroll.js?ver=4.1.18\\'></script>\\n<script type=\\'text/javascript\\' src=\\'https://tether.to/wp-content/themes/jupiter/js/jquerytransit.js?ver=0.9.9\\'></script>\\n<script type=\\'text/javascript\\' src=\\'https://tether.to/wp-content/plugins/js_composer_theme/assets/js/js_composer_front.js?ver=4.4.2\\'></script>\\n\\r\\n\\t\\t<script type=\"text/javascript\">\\r\\n\\t\\twindow.$ = jQuery\\r\\n\\r\\n\\t\\tvar dynamic_styles = \\' .full-width-5c2a0c594993f { min-height:100px; padding:60px 0 90px; margin-bottom:4px; } #background-layer--5c2a0c594993f { background-image:url(https://tether.to/wp-content/uploads/2014/07/TetherHero.jpg); background-position:center center; background-repeat:no-repeat; position: fixed;; } .full-width-5c2a0c5951ba6 { min-height:50px; padding:20px 0 0px; margin-bottom:0px; background-color:#f4f4f4; } #background-layer--5c2a0c5951ba6 { background-position:center top; background-repeat:no-repeat; position: fixed;; } .full-width-5c2a0c5951ba6 .mk-fancy-title.pattern-style span, .full-width-5c2a0c5951ba6 .mk-blog-view-all { background-color: #f4f4f4 !important; } .button-5c2a0c595295f { margin-bottom: 20px; margin-top: 20px; min-width: 340px !important; } .button-5c2a0c595295f { background-color:#22a079; } .mk-button.button-5c2a0c595295f.flat-dimension:hover { background-color:#000000 !important; } .full-width-5c2a0c59522fd { min-height:50px; padding:30px 0 15px; margin-bottom:0px; background-color:#ffffff; border:1px solid #f4f4f4;border-left:none;border-right:none; } #background-layer--5c2a0c59522fd { background-position:center top; background-repeat:no-repeat; position: fixed;; } .full-width-5c2a0c59522fd .mk-fancy-title.pattern-style span, .full-width-5c2a0c59522fd .mk-blog-view-all { background-color: #ffffff !important; } .full-width-5c2a0c5952b8b { min-height:100px; padding:80px 0 80px; margin-bottom:10px; } #background-layer--5c2a0c5952b8b { background-position:left top; background-repeat:repeat; ; } #list-style-5c2a0c5956804 ul li:before { font-family:Icomoon; content: \"\\\\\\\\e26c\"; color:#22a079 } #list-style-5c2a0c5956da3 ul li:before { font-family:Icomoon; content: \"\\\\\\\\e26c\"; color:#22a079 } #list-style-5c2a0c5957348 ul li:before { font-family:Icomoon; content: \"\\\\\\\\e26c\"; color:#22a079 } .full-width-5c2a0c5955603 { min-height:100px; padding:80px 0 80px; margin-bottom:0px; background-color:#f2f2f2; } #background-layer--5c2a0c5955603 { background-position:left top; background-repeat:repeat; ; } .full-width-5c2a0c5955603 .mk-fancy-title.pattern-style span, .full-width-5c2a0c5955603 .mk-blog-view-all { background-color: #f2f2f2 !important; } .full-width-5c2a0c595768e { min-height:100px; padding:80px 0 80px; margin-bottom:0px; } #background-layer--5c2a0c595768e { background-position:left top; background-repeat:repeat; ; } .full-width-5c2a0c5975103 { min-height:100px; padding:80px 0 60px; margin-bottom:0px; background-color:#f2f2f2; } #background-layer--5c2a0c5975103 { background-position:left top; background-repeat:repeat; ; } .full-width-5c2a0c5975103 .mk-fancy-title.pattern-style span, .full-width-5c2a0c5975103 .mk-blog-view-all { background-color: #f2f2f2 !important; }\\';\\r\\n\\t\\tvar dynamic_styles_ids = ([\"ajax-5c2a0c594993f\",\"ajax-5c2a0c5951ba6\",\"ajax-5c2a0c595295f\",\"ajax-5c2a0c59522fd\",\"ajax-5c2a0c5953c12\",\"ajax-5c2a0c5954016\",\"ajax-5c2a0c5954407\",\"ajax-5c2a0c59549ce\",\"ajax-5c2a0c5954dc0\",\"ajax-5c2a0c59552b2\",\"ajax-5c2a0c5952b8b\",\"ajax-5c2a0c5956804\",\"ajax-5c2a0c5956da3\",\"ajax-5c2a0c5957348\",\"ajax-5c2a0c5955603\",\"ajax-5c2a0c595768e\",\"ajax-5c2a0c5975103\"] != null) ? [\"ajax-5c2a0c594993f\",\"ajax-5c2a0c5951ba6\",\"ajax-5c2a0c595295f\",\"ajax-5c2a0c59522fd\",\"ajax-5c2a0c5953c12\",\"ajax-5c2a0c5954016\",\"ajax-5c2a0c5954407\",\"ajax-5c2a0c59549ce\",\"ajax-5c2a0c5954dc0\",\"ajax-5c2a0c59552b2\",\"ajax-5c2a0c5952b8b\",\"ajax-5c2a0c5956804\",\"ajax-5c2a0c5956da3\",\"ajax-5c2a0c5957348\",\"ajax-5c2a0c5955603\",\"ajax-5c2a0c595768e\",\"ajax-5c2a0c5975103\"] : [];\\r\\n\\r\\n\\t\\tvar styleTag = document.createElement(\\'style\\'),\\r\\n\\t\\t\\thead = document.getElementsByTagName(\\'head\\')[0];\\r\\n\\r\\n\\t\\t\\t//console.log(\\'jhonny\\')\\r\\n\\t\\tstyleTag.type = \\'text/css\\';\\r\\n\\t\\tstyleTag.setAttribute(\\'data-ajax\\', \\'\\');\\r\\n\\t\\tstyleTag.innerHTML = dynamic_styles;\\r\\n\\t\\thead.appendChild(styleTag);\\r\\n\\r\\n\\t\\t$(\\'.mk-dynamic-styles\\').each(function() {\\r\\n\\t\\t\\t$(this).remove();\\r\\n\\t\\t});\\r\\n\\r\\n\\t\\tfunction ajaxStylesInjector() {\\r\\n\\t\\t\\t$(\\'.mk-dynamic-styles\\').each(function() {\\r\\n\\t\\t\\t\\tvar $this = $(this),\\r\\n\\t\\t\\t\\t\\tid = $this.attr(\\'id\\'),\\r\\n\\t\\t\\t\\t\\tcommentedStyles = $this.html();\\r\\n\\t\\t\\t\\t\\tstyles = commentedStyles\\r\\n\\t\\t\\t\\t\\t\\t\\t .replace(\\'<!--\\', \\'\\')\\r\\n\\t\\t\\t\\t\\t\\t\\t .replace(\\'-->\\', \\'\\');\\r\\n\\r\\n\\r\\n\\t\\t\\t\\tif(dynamic_styles_ids.indexOf(id) === -1) {\\r\\n\\t\\t\\t\\t\\t$(\\'style[data-ajax]\\').append(styles);\\r\\n\\t\\t\\t\\t\\t$this.remove();\\r\\n\\t\\t\\t\\t}\\r\\n\\r\\n\\t\\t\\t\\tdynamic_styles_ids.push(id);\\r\\n\\t\\t\\t});\\r\\n\\t\\t};\\r\\n\\r\\n\\t\\tabb.modules.theme_header.init({id: \\'mk-header\\',height: \\'90\\',stickyHeight: \\'55\\',stickyOffset: \\'header\\',hasToolbar: \\'false\\',}); \\nabb.init();\\t</script>\\r\\n\\r\\n</body>\\r\\n</html>\\r\\n\\r\\n\\r\\n'"
      ]
     },
     "execution_count": 14,
     "metadata": {},
     "output_type": "execute_result"
    }
   ],
   "source": [
    "request = scrapper_session.get('https://tether.to/')\n",
    "request.text"
   ]
  },
  {
   "cell_type": "markdown",
   "metadata": {},
   "source": [
    "## Rate limiting"
   ]
  },
  {
   "cell_type": "code",
   "execution_count": 15,
   "metadata": {
    "ExecuteTime": {
     "end_time": "2018-12-31T12:28:37.134268Z",
     "start_time": "2018-12-31T12:28:37.129665Z"
    }
   },
   "outputs": [],
   "source": [
    "# Some pages don't like to be accessed too often and they implement mechanism to defend against it"
   ]
  },
  {
   "cell_type": "code",
   "execution_count": 23,
   "metadata": {
    "ExecuteTime": {
     "end_time": "2018-12-31T12:33:14.570327Z",
     "start_time": "2018-12-31T12:33:13.247752Z"
    }
   },
   "outputs": [
    {
     "data": {
      "text/plain": [
       "200"
      ]
     },
     "execution_count": 23,
     "metadata": {},
     "output_type": "execute_result"
    }
   ],
   "source": [
    "request = scrapper_session.get('https://www.goatbots.com/prices-fullsets')\n",
    "request.status_code"
   ]
  },
  {
   "cell_type": "code",
   "execution_count": 24,
   "metadata": {
    "ExecuteTime": {
     "end_time": "2018-12-31T12:33:16.490867Z",
     "start_time": "2018-12-31T12:33:16.485360Z"
    }
   },
   "outputs": [],
   "source": [
    "from tqdm import tqdm_notebook"
   ]
  },
  {
   "cell_type": "code",
   "execution_count": 25,
   "metadata": {
    "ExecuteTime": {
     "end_time": "2018-12-31T12:33:27.647730Z",
     "start_time": "2018-12-31T12:33:17.090994Z"
    }
   },
   "outputs": [
    {
     "data": {
      "application/vnd.jupyter.widget-view+json": {
       "model_id": "2e53fde415644defa9daf42a180de108",
       "version_major": 2,
       "version_minor": 0
      },
      "text/plain": [
       "HBox(children=(IntProgress(value=0, max=10), HTML(value='')))"
      ]
     },
     "metadata": {},
     "output_type": "display_data"
    }
   ],
   "source": [
    "for i in tqdm_notebook(range(10)):\n",
    "    request = scrapper_session.get('https://www.goatbots.com/prices-h09')\n",
    "    if request.status_code != 200:\n",
    "        print(request.status_code)"
   ]
  },
  {
   "cell_type": "code",
   "execution_count": 29,
   "metadata": {
    "ExecuteTime": {
     "end_time": "2018-12-31T12:37:21.280466Z",
     "start_time": "2018-12-31T12:36:40.833158Z"
    }
   },
   "outputs": [
    {
     "data": {
      "application/vnd.jupyter.widget-view+json": {
       "model_id": "9b361c0c6a074cd9910a6b6d87c6ceeb",
       "version_major": 2,
       "version_minor": 0
      },
      "text/plain": [
       "HBox(children=(IntProgress(value=0, max=200), HTML(value='')))"
      ]
     },
     "metadata": {},
     "output_type": "display_data"
    },
    {
     "name": "stdout",
     "output_type": "stream",
     "text": [
      "403\n",
      "403\n",
      "403\n",
      "403\n",
      "403\n",
      "403\n",
      "403\n",
      "403\n",
      "403\n",
      "403\n",
      "403\n",
      "403\n",
      "403\n",
      "403\n",
      "403\n",
      "403\n",
      "403\n",
      "403\n",
      "403\n",
      "403\n",
      "403\n",
      "403\n",
      "403\n",
      "403\n",
      "403\n",
      "403\n",
      "403\n",
      "403\n",
      "403\n",
      "403\n",
      "403\n",
      "403\n",
      "403\n",
      "403\n",
      "403\n",
      "403\n",
      "403\n",
      "403\n",
      "403\n",
      "403\n",
      "403\n",
      "403\n",
      "403\n",
      "403\n",
      "403\n",
      "403\n",
      "403\n",
      "403\n",
      "403\n",
      "403\n",
      "403\n",
      "403\n",
      "403\n",
      "403\n",
      "403\n",
      "403\n",
      "403\n",
      "403\n",
      "403\n",
      "403\n",
      "403\n",
      "403\n",
      "403\n",
      "403\n",
      "403\n",
      "403\n",
      "403\n"
     ]
    }
   ],
   "source": [
    "for i in tqdm_notebook(range(1000)):\n",
    "    request = scrapper_session.get('https://www.goatbots.com/prices-h09')\n",
    "    if request.status_code != 200:\n",
    "        print(request.status_code)\n",
    "        break"
   ]
  },
  {
   "cell_type": "markdown",
   "metadata": {},
   "source": [
    "Mission accomplished :)"
   ]
  },
  {
   "cell_type": "code",
   "execution_count": 20,
   "metadata": {
    "ExecuteTime": {
     "end_time": "2018-12-31T12:32:15.670846Z",
     "start_time": "2018-12-31T12:32:15.663334Z"
    }
   },
   "outputs": [],
   "source": [
    "# Most of the webpages ban IP adress and usually for an hour or a day (24 hours)\n",
    "# Typicall limits are 120 requests per minute \n",
    "# When dealing with unknown be prepared for it, it can mean a forced break in your work so plan ahead other activities\n",
    "# A workaround solution is to change IP - you can use VPN, switch to hotspot from a phone, \n",
    "# go to a café or if you have a dynamic IP just restart router"
   ]
  }
 ],
 "metadata": {
  "kernelspec": {
   "display_name": "Python 3",
   "language": "python",
   "name": "python3"
  },
  "language_info": {
   "codemirror_mode": {
    "name": "ipython",
    "version": 3
   },
   "file_extension": ".py",
   "mimetype": "text/x-python",
   "name": "python",
   "nbconvert_exporter": "python",
   "pygments_lexer": "ipython3",
   "version": "3.7.1"
  }
 },
 "nbformat": 4,
 "nbformat_minor": 2
}
